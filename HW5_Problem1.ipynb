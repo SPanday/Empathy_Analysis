{
 "cells": [
  {
   "cell_type": "markdown",
   "metadata": {},
   "source": [
    "# Empathy Analysis"
   ]
  },
  {
   "cell_type": "markdown",
   "metadata": {},
   "source": [
    "### Problem Statement:\n",
    "#### You are working for a non-profit that is recruiting student volunteers to help with Alzheimer’s patients. You have been tasked with predicting how suitable a person is for this task by predicting how empathetic he or she is. Using the Young People Survey dataset(https://www.kaggle.com/miroslavsabo/young-people-survey/), predict a person’s “empathy” on a scale from 1 to 5. \n"
   ]
  },
  {
   "cell_type": "markdown",
   "metadata": {},
   "source": [
    "First of all, let us visualize the data to get an idea of what we are dealing with. For that I used the tool Orange3 based on Python and C++ offered by Anaconda environment.\n",
    "Here, we have used visual representation called circular FreeViz[1] where yellow points represent most likely to be empathetic while blue represent least likely. The radial setting (the circle under the data) has been set so that we can view those attributes(arrows called anchors) that are comparitively larger than other unit vectors which implies that they are more informative perhaps than the others.\n",
    "![Freeviz](images/OptimizedFreeviz.png)\n",
    "As we can see, the data is not easily separable. Few of the reasons could be that it is using all features including those which are not good at indicating chances for our target feature i.e. Empathy.\n",
    "Also, according to the anchors, we might say that the attributes like gender and life struggles are useful in telling more information.<br>\n",
    "We can now start working with the dataset for prediction."
   ]
  },
  {
   "cell_type": "markdown",
   "metadata": {},
   "source": [
    "First let us import all the essential packages and functions that have been consolidated in the file called 'BasicTries.py'\n",
    "\n",
   ]
  },
  {
   "cell_type": "code",
   "execution_count": 11,
   "metadata": {},
   "outputs": [
    {
     "name": "stdout",
     "output_type": "stream",
     "text": [
      "...done importing!\n"
     ]
    }
   ],
   "source": [
    "from BasicTries import getCleanedData, train_validate_test_split, getXY, saveFile, loadFile, assignRadnomValue\n",
    "from ParameterTuning import tuneSVC, tuneDCT, tuneRFC\n",
    "\n",
    "import pandas as pd\n",
    "import numpy as np\n",
    "from sklearn import tree\n",
    "from sklearn.svm import SVC\n",
    "from sklearn.linear_model import LogisticRegression, Lasso\n",
    "from scipy import stats\n",
    "import warnings\n",
    "from sklearn.feature_selection import RFECV\n",
    "from sklearn.naive_bayes import GaussianNB\n",
    "from sklearn import model_selection\n",
    "from sklearn.ensemble import BaggingClassifier, AdaBoostClassifier\n",
    "from sklearn.ensemble import GradientBoostingClassifier\n",
    "from sklearn.ensemble import RandomForestClassifier\n",
    "from sklearn.ensemble import VotingClassifier\n",
    "from sklearn.neural_network import MLPClassifier\n",
    "from sklearn.neighbors import KNeighborsClassifier\n",
    "from sklearn.discriminant_analysis import QuadraticDiscriminantAnalysis\n",
    "import pickle\n",
    "\n",
    "print('...done importing!')"
   ]
  },
  {
   "cell_type": "markdown",
   "metadata": {},
   "source": [
    "Now, we need to begin with cleaning and preprocessing the data to make it ready for training.<br>\n",
    "The two things that need handling are:\n",
    "1. <b>Missing Data</b> : We are replacing any or all of the data that's missing by the mode i.e. most frequent value of that column.\n",
    "2. <b>Categorical Data</b>: most of the classifiers need numerical data to train on. Hence, we create <i>dummy</i> features for all the categorical attributes such as <i>Gender, Punctuality, Internet Usage</i> etc. These dummy features are based on each category and whether a particular person belongs to that category or not is marked by <b>1 or 0</b>, respectively.\n",
    "\n",
    "After cleaning, we divide our dataset into three parts where <b>60% of data is training set, 20% is validation set and rest is testing set</b>."
   ]
  },
  {
   "cell_type": "code",
   "execution_count": 12,
   "metadata": {},
   "outputs": [
    {
     "name": "stdout",
     "output_type": "stream",
     "text": [
      "  converting categorical features to indicator features...\n",
      "\n",
      "Few dummy variables created: ['Education_doctorate degree', 'Education_masters degree', 'Education_primary school', 'Education_secondary school', 'Only child_no', 'Only child_yes', 'Village - town_city', 'Village - town_village'] \n",
      "\n"
     ]
    }
   ],
   "source": [
    "cleanedData, finalAttr = getCleanedData()\n",
    "print('\\nFew dummy variables created:',finalAttr[-10:-2],'\\n')\n",
    "train, validate, test = train_validate_test_split(cleanedData)\n",
    "X_train, y_train = getXY(train, finalAttr)\n",
    "X_val, y_val = getXY(validate, finalAttr)\n",
    "X_test, y_test = getXY(test, finalAttr)"
   ]
  },
  {
   "cell_type": "markdown",
   "metadata": {},
   "source": [
    "Our data is ready for learning experiments; We try some <b>baseline and simple default classifiers</b> to see how they perform. We'll be testing out everything on validation set to improve our model for unseen test data.\n",
    "\n",
    "First, let us see that how accurate it would be if we just assign the <b>most frequent class</b> in the training data.\n",
    "As we see below, it performs pretty terribly with an <b>accuracy of 14 - 16%</b> approximately on validation data."
   ]
  },
  {
   "cell_type": "code",
   "execution_count": 13,
   "metadata": {},
   "outputs": [
    {
     "name": "stdout",
     "output_type": "stream",
     "text": [
      "\n",
      "  assigning *Most frequent value* of the training data...\n",
      "     testing on validation set...\n",
      "       accuracy on validation set: 0.15841584158415842\n"
     ]
    }
   ],
   "source": [
    "accuracies = []\n",
    "models = []\n",
    "print('\\n  assigning *Most frequent value* of the training data...')\n",
    "print('     testing on validation set...') \n",
    "print('       accuracy on validation set:',np.mean(stats.mode(y_train) == y_val))\n",
    "accuracies.append(np.mean(stats.mode(y_train) == y_val))"
   ]
  },
  {
   "cell_type": "markdown",
   "metadata": {},
   "source": [
    "Next, let us see how accurate it would be if we assign a <b>random class</b> as prediction.\n",
    "As we see below, it performs almost equally bad with an <b>accuracy of 15% to 17%</b> approximately on validation data."
   ]
  },
  {
   "cell_type": "code",
   "execution_count": 14,
   "metadata": {},
   "outputs": [
    {
     "name": "stdout",
     "output_type": "stream",
     "text": [
      "\n",
      "  assigning *Random value*...\n",
      "     testing on validation set...\n",
      "       accuracy on validation set: 0.15934712283109498\n"
     ]
    }
   ],
   "source": [
    "print('\\n  assigning *Random value*...')\n",
    "print('     testing on validation set...') \n",
    "print('       accuracy on validation set:',np.mean(y_val == assignRadnomValue(len(y_val))))\n",
    "accuracies.append(np.mean(y_val == assignRadnomValue(len(y_val))))"
   ]
  },
  {
   "cell_type": "markdown",
   "metadata": {},
   "source": [
    "Now, let us train a <b>default Decision Tree Classifier</b> on the training data and see how well it performs.\n",
    "As we see below, it performs better than the first two methods with an <b>accuracy of 26%</b> approximately on validation data, but it is still a <i>bad classifier</i>."
   ]
  },
  {
   "cell_type": "code",
   "execution_count": 15,
   "metadata": {},
   "outputs": [
    {
     "name": "stdout",
     "output_type": "stream",
     "text": [
      "\n",
      "  training *Decision Tree* model on train set...\n",
      "     testing on validation set...\n",
      "       accuracy on validation set: 0.2669836290559749\n"
     ]
    }
   ],
   "source": [
    "print('\\n  training *Decision Tree* model on train set...')\n",
    "clf = tree.DecisionTreeClassifier()\n",
    "clf = clf.fit(X_train, y_train)\n",
    "print('     testing on validation set...') \n",
    "predicted = clf.predict(X_val)\n",
    "print('       accuracy on validation set:',np.mean(predicted == y_val))\n",
    "accuracies.append(np.mean(predicted == y_val))"
   ]
  },
  {
   "cell_type": "markdown",
   "metadata": {},
   "source": [
    "Now, let us train a <b>default Support Vector Machine</b> on the training data.\n",
    "As we see below, it performs worse than the default Decision Tree with an <b>accuracy of 23%</b> approximately on validation data, hence, is still a weaker classifier."
   ]
  },
  {
   "cell_type": "code",
   "execution_count": 16,
   "metadata": {},
   "outputs": [
    {
     "name": "stdout",
     "output_type": "stream",
     "text": [
      "\n",
      "  training *Support Vector Machine* model on train set...\n",
      "     testing on validation set...\n",
      "       accuracy on validation set: 0.23213410449955887\n"
     ]
    }
   ],
   "source": [
    "print('\\n  training *Support Vector Machine* model on train set...')\n",
    "clf = SVC(kernel = 'poly')\n",
    "warnings.filterwarnings(\"ignore\")\n",
    "clf = clf.fit(X_train, y_train)\n",
    "print('     testing on validation set...') \n",
    "predicted = clf.predict(X_val)\n",
    "print('       accuracy on validation set:',np.mean(predicted == y_val))\n",
    "accuracies.append(np.mean(predicted == y_val))"
   ]
  },
  {
   "cell_type": "markdown",
   "metadata": {},
   "source": [
    "Let us also train a simple linear model, a <b>default Logistic Regression</b> model on the training data and see how well it performs.\n",
    "As we see below, it performs <b>similar to the SVM and Decision Tree models</b> with an <b>accuracy of 25%</b> approximately on validation data, which is better than assigning <i>frequent values or being random</i>."
   ]
  },
  {
   "cell_type": "code",
   "execution_count": 17,
   "metadata": {},
   "outputs": [
    {
     "name": "stdout",
     "output_type": "stream",
     "text": [
      "\n",
      "  training *Logistic Regression* model on train set...\n",
      "     testing on validation set...\n",
      "       accuracy on validation set: 0.2541662582099794\n"
     ]
    }
   ],
   "source": [
    "print('\\n  training *Logistic Regression* model on train set...')\n",
    "clf = LogisticRegression().fit(X_train, y_train)\n",
    "print('     testing on validation set...') \n",
    "predicted = clf.predict(X_val)\n",
    "print('       accuracy on validation set:',np.mean(predicted == y_val))\n",
    "accuracies.append(np.mean(predicted == y_val))"
   ]
  },
  {
   "cell_type": "markdown",
   "metadata": {},
   "source": [
    "As we had seen during visualiztion and also noticed indirectly due to bad performances by the default models, there are probably a lot of redundant features which are adversely affecting the classification results. Let us try to do some feature selection using a technique called <b>Recursive Feature Elimination with Cross Validation(RFECV)</b>[2]. This technique recursively eliminated a feature and trains on the data till all the features exhaust and gives us rank according to the best performance(1 is the best) measured by cross validation.\n",
    "\n",
    "Here, I have used RFE from sklearn package and chosen all those attributes that _fall in rank 1 to 3_. After that I rerun the default logistic regression on the new X set to see if it changes anything."
   ]
  },
  {
   "cell_type": "code",
   "execution_count": 18,
   "metadata": {},
   "outputs": [
    {
     "name": "stdout",
     "output_type": "stream",
     "text": [
      "After feature selection: (606, 172)\n",
      "\n",
      "  training *Logistic Regression* model on REFINED training set...\n",
      "     testing on REFINED validation set...\n",
      "       accuracy on validation set: 0.29278992255661207\n",
      "\n",
      "  training *Support Vector Machine* model on REFINED training set...\n",
      "     testing on REFINED validation set...\n",
      "       accuracy on validation set: 0.29367218900107833\n"
     ]
    }
   ],
   "source": [
    "X,y = getXY(cleanedData, finalAttr)\n",
    "logreg = LogisticRegression()\n",
    "rfe = RFECV(logreg, 10)\n",
    "rfe = rfe.fit(X, y )\n",
    "ranking = rfe.ranking_\n",
    "selectedAttr = []\n",
    "for i, rank in enumerate(ranking):\n",
    "    if rank < 3 or i == 92:\n",
    "        selectedAttr.append(finalAttr[i])\n",
    "\n",
    "print('After feature selection:',X_train.shape)\n",
    "X_train, y_train = getXY(train, selectedAttr)\n",
    "X_val, y_val = getXY(validate, selectedAttr)\n",
    "X_test, y_test = getXY(test, selectedAttr)\n",
    "\n",
    "print('\\n  training *Logistic Regression* model on REFINED training set...')\n",
    "clf = LogisticRegression().fit(X_train, y_train)\n",
    "print('     testing on REFINED validation set...') \n",
    "predicted = clf.predict(X_val)\n",
    "print('       accuracy on validation set:',np.mean(predicted == y_val))\n",
    "accuracies.append(np.mean(predicted == y_val))\n",
    "print('\\n  training *Support Vector Machine* model on REFINED training set...')\n",
    "clf = SVC(kernel = 'poly')\n",
    "warnings.filterwarnings(\"ignore\")\n",
    "clf = clf.fit(X_train, y_train)\n",
    "print('     testing on REFINED validation set...') \n",
    "predicted = clf.predict(X_val)\n",
    "print('       accuracy on validation set:',np.mean(predicted == y_val))\n",
    "accuracies.append(np.mean(predicted == y_val))"
   ]
  },
  {
   "cell_type": "markdown",
   "metadata": {},
   "source": [
    "As we see in above output, the performance has slightly <b>improved by 2-6% for Logistic Regression</b> reaching from around __27% to 29% accuracy__ and <b>SVM improved by 4%</b> reaching from __24% to 29%__.\n",
    "\n",
    "As they both perform differently, it might be possible that both of these classifiers are learning a different story from the data. This suggests that may be we should try to combine results from multiple classifiers instead of just one which gives us a hint for usage of ensemble techniques.\n",
    "\n",
    "But before that, we will try to make the base classifiers work at their optimum for the data by <i>tuning the respective hyperparameters</i>."
   ]
  },
  {
   "cell_type": "markdown",
   "metadata": {},
   "source": [
    "To tune the hyperparameters, we make use of <b>Grid Search with cross validation</b> offered by sklearn as GridSearchCV[3].\n",
    "\n",
    "GridSearchCV takes an estimator i.e. your model whose parameters we need to tune, a parameter grid in which we mention the hyperparameters of the respective model we wish to tune as well as all the possible values we want to test. Let us see an example for the tuning _Decision Tree Classifier_."
   ]
  },
  {
   "cell_type": "code",
   "execution_count": 19,
   "metadata": {},
   "outputs": [],
   "source": [
    "def tuneDCT(X, y):\n",
    "    param_grid = {\n",
    "    'criterion': ['gini', 'entropy'],\n",
    "    'max_features': ['auto', 'sqrt', 'log2'],\n",
    "    'max_depth':list(range(1, 10, 1))\n",
    "    }"
   ]
  },
  {
   "cell_type": "markdown",
   "metadata": {},
   "source": [
    "Here, we see the parameter grid we need to tune for our estimator Decision Tree Classifier. We have taken three hyperparameters that we wish to tune:\n",
    "1. <b>criterion</b> which decides the split. It can have either gini or entropy as its possible values so, we put both of them in a list to try.<br>\n",
    "2. <b>max_features</b> which gives the number of features to consider for best split. The already offered methods are auto, square root or natural log of the number of features that needs to be considered. So, we include all of them in the list to test out.<br>\n",
    "3. <b>max_depth</b> which is the depth of the generated decision tree. We try all the values in range 1 to 10 for it.<br><br>\n",
    "Similarly, a script for ParameterTuning has been created to find the best features for SVM classifier, RandomForest Classifier as well. \n",
    "\n",
    "To figure out the numerical range that will suit the model, we can try big ranges of multiples of 10 and step down to 1 while reducing the range. For example, to figure out the range of RFC's n_estimators, I first tested for a range of 100 to 1000 with a step of 10. The value that I got was 700 and so, I tried again with a range of 500, 900 with a step of 5 for which I got a value of 650. This lead to the current range I am testing i.e. 648 to 658 with a step of 1.\n",
    "\n",
    "We'll see the selected parameters for their respective models below."
   ]
  },
  {
   "cell_type": "code",
   "execution_count": 39,
   "metadata": {},
   "outputs": [
    {
     "name": "stdout",
     "output_type": "stream",
     "text": [
      "Best parameter settings for:\n",
      "SVC: {'C': 3, 'kernel': 'rbf'}\n",
      "RFC: {'max_features': 'auto', 'n_estimators': 655}\n"
     ]
    }
   ],
   "source": [
    "bestSVC = tuneSVC(X_train,y_train)\n",
    "print('Best parameter settings for:\\nSVC:',bestSVC)\n",
    "bestRFC = tuneRFC(X_train,y_train)\n",
    "print('RFC:',bestRFC)"
   ]
  },
  {
   "cell_type": "markdown",
   "metadata": {},
   "source": [
    "We saved the best parameters for quick access as pickle files.\n",
    "Now that we have best parameter settings for each classifier, we can consider ensemble techniques on them.\n",
    "\n",
    "The first thing that we would want is that the model we use are stable in nature which can be done by __Bootstrap aggregating aka bagging__ that improves the stability and accuracy of base classifier by model averaging. We can apply that to each of the classifiers to make them stable. sklearn library offers BaggingClassifier[4] that can be used by us.\n",
    "\n",
    "To predict based on all the models combined, we can have a voting model which takes in vote from every model and gives us a unanimous prediction. This can help us in getting the best of all and also the prediction will be more certain.\n",
    "\n",
    "This can be achieved by sklearn's __Voting Classifier__[5]. We'll be doing hard voting which gives us the voted prediciton classes whereas soft voting gives voted probabilities.\n",
    "\n",
    "Now, let us see how bagging and voting our classifiers work on our validation data."
   ]
  },
  {
   "cell_type": "code",
   "execution_count": 32,
   "metadata": {},
   "outputs": [
    {
     "name": "stdout",
     "output_type": "stream",
     "text": [
      "accuracy on validation set: 0.3002401725321047\n"
     ]
    }
   ],
   "source": [
    "bestSVC = loadFile('bestSVC' )\n",
    "bestRFC = loadFile('bestRFC' )\n",
    "bestDCT = loadFile('bestDCT' )\n",
    "\n",
    "clf1 = LogisticRegression(random_state=1)\n",
    "\n",
    "rfc = RandomForestClassifier(n_jobs=-1, max_features= bestRFC['max_features'], n_estimators= bestRFC['n_estimators'], oob_score = True) #\n",
    "clf2 = BaggingClassifier(base_estimator=rfc)\n",
    "\n",
    "cart = tree.DecisionTreeClassifier(criterion = bestDCT['criterion'], max_depth=bestDCT['max_depth'], max_features=bestDCT['max_features'])\n",
    "clf3 = BaggingClassifier(base_estimator=cart)\n",
    "\n",
    "svc = SVC(kernel = bestSVC['kernel'], C = bestSVC['C'])\n",
    "clf4 = BaggingClassifier(base_estimator=svc)\n",
    "\n",
    "\n",
    "eclf = VotingClassifier(estimators=[\n",
    "        ('lr', clf1), ('rf', clf3), ('cart',clf3),('svm',clf4)], voting='hard')\n",
    "\n",
    "eclf = eclf.fit(X_train, y_train)\n",
    "print('accuracy on validation set:',np.mean(y_val == eclf.predict(X_val)))\n",
    "accuracies.append(np.mean(y_val == eclf.predict(X_val)))"
   ]
  },
  {
   "cell_type": "markdown",
   "metadata": {},
   "source": [
    "As you can see bagging and voting has increased the accuracy from around <b>29% for each base classifier to 30%</b>.\n",
    "\n",
    "Now, there are other models that we'll try to see if they improve the performance:\n",
    "1. <b>K Nearest Neighbors Classifier</b>[6] (a clustering algorithm)\n",
    "2. <b>Multi-layer Perceptron Classifier</b>[7] (a neural network)\n",
    "3. <b>Quadratic Discriminant Analysis</b>[8] (Bayes' Rule based decsion boundary)\n",
    "\n",
    "Let us see, how they all perform on the validation set."
   ]
  },
  {
   "cell_type": "code",
   "execution_count": 33,
   "metadata": {},
   "outputs": [
    {
     "name": "stdout",
     "output_type": "stream",
     "text": [
      "accuracy on validation set: 0.30156357219880403\n"
     ]
    }
   ],
   "source": [
    "clf1 = LogisticRegression(random_state=1)\n",
    "\n",
    "rfc = RandomForestClassifier(n_jobs=-1, max_features= bestRFC['max_features'], n_estimators= bestRFC['n_estimators'], oob_score = True) #\n",
    "clf2 = BaggingClassifier(base_estimator=rfc)\n",
    "\n",
    "cart = tree.DecisionTreeClassifier(criterion = bestDCT['criterion'], max_depth=bestDCT['max_depth'], max_features=bestDCT['max_features'])\n",
    "clf3 = BaggingClassifier(base_estimator=cart)\n",
    "\n",
    "rfc = SVC(kernel = bestSVC['kernel'], C = bestSVC['C'])\n",
    "clf4 = BaggingClassifier(base_estimator=rfc)\n",
    "\n",
    "kmeans = KNeighborsClassifier(5)\n",
    "\n",
    "nn = MLPClassifier(alpha=1)\n",
    "\n",
    "qda = QuadraticDiscriminantAnalysis()\n",
    "\n",
    "\n",
    "eclf1 = VotingClassifier(estimators=[\n",
    "        ('rf', clf2), ('cart',clf3),('svm',clf4), ('nn', nn), ('qda',qda), ('km', kmeans)], voting='hard')#\n",
    "\n",
    "eclf1 = eclf1.fit(X_train, y_train)\n",
    "print('accuracy on validation set:',np.mean(y_val == eclf1.predict(X_val)))\n",
    "accuracies.append(np.mean(y_val == eclf1.predict(X_val)))"
   ]
  },
  {
   "cell_type": "markdown",
   "metadata": {},
   "source": [
    "We can see that after adding all the new classifiers, our model __increased the accuracy by 0.1%__.\n",
    "\n",
    "Now, we can test our model (saved as pickle file for saving time) on the test data. We'll use both training and validation data to train the model for testing data."
   ]
  },
  {
   "cell_type": "code",
   "execution_count": 23,
   "metadata": {},
   "outputs": [
    {
     "name": "stdout",
     "output_type": "stream",
     "text": [
      "accuracy on testing set: 0.3441329281442996\n"
     ]
    }
   ],
   "source": [
    "eclf1 = pickle.load(open('saved_pickles/ensemble.sav', 'rb'))\n",
    "\n",
    "eclf1 = eclf1.fit(np.concatenate((X_train,X_val)),np.concatenate((y_train,y_val)))\n",
    "print('accuracy on testing set:',np.mean(y_test == eclf1.predict(X_test)))\n",
    "accuracies.append(np.mean(y_test == eclf1.predict(X_test)))"
   ]
  },
  {
   "cell_type": "markdown",
   "metadata": {},
   "source": [
    "As we see, __accuracy for testing data__ is almost __4% more than the validation__ data i.e. __34.4%__.\n",
    "\n",
    "So, to recapitulate the entire process, we first preprocessed the data by handling missing values and converting categorical features to numerical features. Then we divided our data to training, validation and testing data in ratio 60:20:20. Then we try multiple base classifiers on our training data and test and tune them on validation set. Then, we try ensemble techniques to improve the performace of our model and then finally, tested it on our test data.\n",
    "\n",
    "Below is a bar graph for our progress based on accuracy."
   ]
  },
  {
   "cell_type": "code",
   "execution_count": 37,
   "metadata": {},
   "outputs": [
    {
     "data": {
      "image/png": "iVBORw0KGgoAAAANSUhEUgAABmEAAAHBCAYAAACR2B+6AAAABHNCSVQICAgIfAhkiAAAAAlwSFlzAAAPYQAAD2EBqD+naQAAADl0RVh0U29mdHdhcmUAbWF0cGxvdGxpYiB2ZXJzaW9uIDIuMS4yLCBodHRwOi8vbWF0cGxvdGxpYi5vcmcvNQv5yAAAIABJREFUeJzs3Xu8l2O+N/DPatHqoCLpKJVDTiFqphNyKtoMhkzGVnJ6oj17dmIPbWOE0SJ2PJu9ctgONUZi2G2DjYYyPGW2M4PH2CaKiooO0i7q9/wxT2ssq2jV+lni/X697hf39bvu6/5ev3X/0+/zuq67pFAoFAIAAAAAAECtqlfXBQAAAAAAAHwbCWEAAAAAAACKQAgDAAAAAABQBEIYAAAAAACAIhDCAAAAAAAAFIEQBgAAAAAAoAiEMAAAAAAAAEUghAEAAAAAACgCIQwAAAAAAEARCGEAAKAW3H777SkpKak8tthii2y//fY59dRT895779V1ed95n//blJaWZptttsk+++yTYcOG5emnn67W/+23305JSUluv/32Ku2TJ0/OnnvumYYNG6akpCQvvvhikuS6667LzjvvnPr166ekpCSLFy/+Oqa1USoqKqrN68t07NgxJSUlOeigg9b5+cSJEyu/2+nTp9dKjUkyevTolJSUbNS1Q4cOTceOHWutFgAA2FhCGAAAqEW33XZbZs6cmalTp+bMM8/MpEmTcsABB2T58uV1Xdp33sCBAzNz5sw89dRTueuuuzJkyJA8/fTT6dWrV/7hH/6hSt82bdpk5syZOfLIIyvbFixYkMGDB2ennXbKww8/nJkzZ6Zz58558cUX89Of/jQHH3xwHn/88cycOTNNmjT5uqe3wWoawiRJkyZN8vvf/z5vvfVWtc9uvfXWNG3atJaqAwCAbxchDAAA1KIuXbqkZ8+eOfjgg3PxxRfnZz/7WWbNmpUpU6as95oVK1akUCh8bTWuWLHia7vXN0mrVq3Ss2fP9OrVK4cffnjOPffcPP/88znttNPyL//yLxk/fnxl37KysvTs2TPbbbddZduf/vSnfPrppzn55JPTt2/f9OzZM40aNcqrr76aJDnzzDOz//77p2fPniktLd2kWj/55JNNur627b///mnXrl1uvfXWKu1vvfVWfv/732fQoEF1VBkAAHyzCWEAAKCIevbsmSR55513kvx127JHH300p512Wrbbbrs0atQoK1euTJI89dRTOfTQQ9OkSZM0atQovXv3zoMPPlht3Keeeiq9evVKgwYN0q5du1x00UX5t3/7t5SUlOTtt9+u7NexY8ccddRRue+++7LvvvumQYMGueSSS5IkhUIhFRUV6dq1axo2bJhtttkmAwcOzJ///Ocq93rhhRdy1FFHpWXLlikrK0vbtm1z5JFH5t13363sc88996RHjx5p1qxZGjVqlB133DGnnXbaV34///M//5NRo0alU6dOqV+/ftq1a5e/+7u/q7ad19p5PPzww9lvv/3SsGHD7LbbbtVCgZoqLS3N9ddfnxYtWuSqq66qbP/idmRDhw7N/vvvnyQZNGhQ5fZcBx10UE4++eQkSY8ePVJSUpKhQ4dWjvO73/0uhx56aJo2bZpGjRqlT58+eeyxx6rUsHbbreeffz4DBw7MNttsk5122qny82effTZHH310mjdvngYNGmTffffN3XffXWWMtc/VtGnTcvbZZ6dFixbZdtttc9xxx2Xu3LlVvsdXX301TzzxROUWYhuybVe9evUyZMiQTJgwIWvWrKlsv/XWW9O+ffscdthh67zu/vvvT69evdKoUaM0adIk/fr1y8yZM6v1e/DBB9O1a9eUlZWlU6dOufrqq9c53oY+s+uysc8oAABsCiEMAAAU0X//938nSZUVFUly2mmnZcstt8yvfvWr/OY3v8mWW26ZJ554IoccckiWLFmSW265JZMmTUqTJk3ygx/8IJMnT6689uWXX06/fv3yySefZMKECbnhhhvy/PPP5/LLL19nDc8//3z+8R//MT/96U/z8MMP5/jjj0+SDBs2LCNGjMhhhx2WKVOmpKKiIq+++mp69+6d999/P0myfPny9OvXL++//37+9V//NVOnTs21116bHXbYIcuWLUuSzJw5M4MGDcqOO+6Yu+66Kw8++GB+8Ytf5LPPPvvS76ZQKOTYY4/N1VdfncGDB+fBBx/MyJEjM2HChBxyyCGVwdRaL730Us4999ycc845+Y//+I/svffeOf300/P73/++Bn+R6ho2bJjDDjsss2bNqhIsfd5FF12Uf/3Xf02SjBkzJjNnzkxFRUUqKiry85//PMlft6K76KKLkiR33HFH+vfvn6ZNm2bChAm5++6707x58xx++OHVgpgkOe6447LzzjvnnnvuyQ033JAkmTZtWvr06ZPFixfnhhtuyH/8x3+ka9euGTRo0Dq3FDvjjDOy5ZZb5s4778zYsWMzffr0ypAoSf793/89O+64Y/bdd9/MnDkzM2fOzL//+79v0Pd02mmnZe7cuXnkkUeSJKtXr86ECRMydOjQ1KtX/Z+Wd955Z4455pg0bdo0kyZNyi233JKPPvooBx10UJ566qnKfo899liOOeaYNGnSJHfddVeuuuqq3H333bntttuqjbkhz+y6bOwzCgAAm6wAAABssttuu62QpPD0008XPv3008KyZcsKDzzwQGG77bYrNGnSpDB//vwq/YYMGVJtjJ49exZatmxZWLZsWWXbZ599VujSpUth++23L6xZs6ZQKBQKJ5xwQqFx48aFBQsWVPZbvXp1YY899igkKcyaNauyvUOHDoXS0tLCG2+8UeVeM2fOLCQp/PM//3OV9jlz5hQaNmxY+NnPflYoFAqFZ599tpCkMGXKlPXO/eqrry4kKSxevHgDv62/ePjhhwtJCmPHjq3SPnny5EKSwk033VRlHg0aNCi88847lW0rVqwoNG/evDBs2LCvvFeSwt/93d+t9/Pzzz+/kKTwhz/8oVAoFAqzZs0qJCncdtttlX2mTZtWSFK45557qly79m/6zDPPVLYtX7680Lx588IPfvCDKn1Xr15d2GeffQrf//73K9suvvjiQpLCL37xi2p17bbbboV999238Omnn1ZpP+qoowpt2rQprF69ukoNw4cPr9Jv7NixhSSFefPmVbbtueeehb59+673u/iiDh06FI488shCoVAo9O3btzBw4MBCoVAoPPjgg4WSkpLCrFmzCvfcc08hSWHatGmV82zbtm1hr732qqyxUCgUli1bVmjZsmWhd+/elW09evQotG3btrBixYrKtqVLlxaaN29e+Pw/WTf0mS0UCoVTTjml0KFDh8rzjX1GAQBgU1kJAwAAtahnz57Zcsst06RJkxx11FFp3bp1/vM//zOtWrWq0m/tapS1li9fnj/84Q8ZOHBgttpqq8r20tLSDB48OO+++27eeOONJKlcMdOiRYvKfvXq1cuPfvSjdda09957p3PnzlXaHnjggZSUlOTkk0/OZ599Vnm0bt06++yzT6ZPn54k2XnnnbPNNtvk/PPPzw033JDXXnut2vjf+973kiQ/+tGPcvfdd+e9997boO/q8ccfT5Iq23clyQknnJDGjRtXWy3StWvX7LDDDpXnDRo0SOfOnSu3etsUhVp+J8+MGTPy4Ycf5pRTTqny/a5ZsyZHHHFEnnnmmSxfvrzKNV98Jv77v/87//f//t/87d/+bZJUGedv/uZvMm/evMpnYq2jjz66yvnee++dJLXyHSV/WQ1z//33Z9GiRbnlllty8MEHr3M7szfeeCNz587N4MGDq6yS2WqrrXL88cfn6aefzieffJLly5fnmWeeyXHHHZcGDRpU9lu7AuzzNvSZXZeNfUYBAGBTCWEAAKAWTZw4Mc8880xeeOGFzJ07Ny+//HL69OlTrV+bNm2qnH/00UcpFArV2pOkbdu2SZJFixZV/veLoU6Sdbat615J8v7776dQKKRVq1bZcsstqxxPP/10Fi5cmCRp1qxZnnjiiXTt2jX/9E//lD333DNt27bNxRdfnE8//TRJcuCBB2bKlCn57LPPMmTIkGy//fbp0qVLJk2a9GVfVRYtWpQtttii2lZtJSUlad26deV819p2222rjVFWVpYVK1Z86X02xNqQYu13vanWbo01cODAat/vlVdemUKhkA8//LDKNV/8O60d47zzzqs2xvDhw5Ok8u+01he/o7KysiSple9o7XwaNGiQa665Jr/97W9z+umnr7Pf2r/d+p7nNWvW5KOPPspHH32UNWvWpHXr1tX6fbFtQ5/ZddnYZxQAADbVFnVdAAAAfJvsvvvu6d69+1f2KykpqXK+zTbbpF69epk3b161vmtfrL525cu22267zvdfzJ8/f4PutXaskpKSPPnkk5U/1H/e59v22muv3HXXXSkUCnn55Zdz++2359JLL03Dhg1zwQUXJEmOOeaYHHPMMVm5cmWefvrplJeX56STTkrHjh3Tq1evdda17bbb5rPPPsuCBQuqBDGFQiHz58+vXL1QbCtWrMjvfve77LTTTtl+++1rZcy1f6vrrrsuPXv2XGefL4ZmX/w7rR1j1KhROe6449Y5xq677rqppdZIo0aNcuKJJ6a8vDxNmzZdb11rw6D1Pc/16tXLNttsk0KhkJKSknU+u19sq8kzuy4b84wCAMCmEsIAAMA3QOPGjdOjR4/cd999ufrqq9OwYcMkyZo1a3LHHXdk++23r9xSrG/fvnnooYeycOHCyh/q16xZk3vuuWeD73fUUUfliiuuyHvvvbfebcy+qKSkJPvss0+uueaa3H777Xn++eer9SkrK0vfvn2z9dZb55FHHskLL7yw3h+4Dz300IwdOzZ33HFHzjnnnMr2e++9N8uXL8+hhx66wfPZWKtXr85PfvKTLFq0KOXl5bU2bp8+fbL11lvntddey09+8pONGmPXXXfNLrvskpdeeiljxoyptdo2dfXQ2Wefnffffz99+/atsoXY5+26665p165d7rzzzpx33nmVAdPy5ctz7733plevXmnUqFGS5Pvf/37uu+++XHXVVZXjLVu2LL/97W+rjLkxz+y61OQZBQCATSWEAQCAb4jy8vL069cvBx98cM4777zUr18/FRUV+eMf/5hJkyZV/pB94YUX5re//W0OPfTQXHjhhWnYsGFuuOGGyneMfP4dHOvTp0+f/K//9b9y6qmn5tlnn82BBx6Yxo0bZ968eXnqqaey11575eyzz84DDzyQioqKHHvssdlxxx1TKBRy3333ZfHixenXr1+S5Be/+EXefffdHHroodl+++2zePHi/O///b+z5ZZbpm/fvuutoV+/fjn88MNz/vnnZ+nSpenTp09efvnlXHzxxdl3330zePDgWvhW/+r999/P008/nUKhkGXLluWPf/xjJk6cmJdeeinnnHNOzjzzzFq711ZbbZXrrrsup5xySj788MMMHDgwLVu2zIIFC/LSSy9lwYIFGT9+/FeOc+ONN2bAgAE5/PDDM3To0LRr1y4ffvhhXn/99Tz//PM1Ct7WWruyafLkydlxxx3ToEGD7LXXXht8fdeuXTNlypQv7VOvXr2MHTs2f/u3f5ujjjoqw4YNy8qVK3PVVVdl8eLFueKKKyr7XnbZZTniiCPSr1+/nHvuuVm9enWuvPLKNG7cuMqWbRv6zK7Lxj6jAACwqYQwAADwDdG3b988/vjjufjiizN06NCsWbMm++yzT+6///4cddRRlf322WefTJ06Needd16GDBmSbbbZJoMHD07fvn1z/vnnp1mzZht0vxtvvDE9e/bMjTfemIqKiqxZsyZt27ZNnz598v3vfz9Jsssuu2TrrbfO2LFjM3fu3NSvXz+77rprbr/99pxyyilJkh49euTZZ5/N+eefnwULFmTrrbdO9+7d8/jjj2fPPfdc7/1LSkoyZcqUjB49Orfddlsuv/zytGjRIoMHD86YMWO+cnupmvrNb36T3/zmN6lXr1622mqrdOjQIb169coNN9yw3i3DNsXJJ5+cHXbYIWPHjs2wYcOybNmytGzZMl27ds3QoUM3aIyDDz44//Vf/5XLL788I0aMyEcffZRtt902e+yxx0avBrnkkksyb968nHnmmVm2bFk6dOiQt99+e6PG+jInnXRSGjdunPLy8gwaNCilpaXp2bNnpk2blt69e1f269evX6ZMmZKf//znGTRoUFq3bp3hw4dnxYoVueSSS6qMuSHP7Lps7DMKAACbqqRQKBTquggAAGDT9e/fP2+//Xb+9Kc/1XUpAAAAxEoYAADYLI0cOTL77rtv2rdvnw8//DC//vWvM3Xq1Nxyyy11XRoAAAD/nxAGAAA2Q6tXr84vfvGLzJ8/PyUlJdljjz3yq1/9KieffHJdlwYAAMD/ZzsyAAAAAACAIqhX1wUAAAAAAAB8GwlhAAAAAAAAikAIAwAAAAAAUARb1HUB30Rr1qzJ3Llz06RJk5SUlNR1OQAAAAAAQB0qFApZtmxZ2rZtm3r1Nnx9ixBmHebOnZv27dvXdRkAAAAAAMA3yJw5c7L99ttvcH8hzDo0adIkyV++zKZNm9ZxNQAAAAAAQF1aunRp2rdvX5kfbCghzDqs3YKsadOmQhgAAAAAACBJavwKkw3fuAwAAAAAAIANJoQBAAAAAAAoAiEMAAAAAABAEQhhAAAAAAAAikAIAwAAAAAAUATfiBCmoqIinTp1SoMGDdKtW7c8+eST6+173333pXv37tl6663TuHHjdO3aNb/61a+q9Bk6dGhKSkqqHD179iz2NAAAAAAAACptUdcFTJ48OSNGjEhFRUX69OmTG2+8MQMGDMhrr72WHXbYoVr/5s2b58ILL8xuu+2W+vXr54EHHsipp56ali1b5vDDD6/sd8QRR+S2226rPK9fv/7XMh8AAAAAAIAkKSkUCoW6LKBHjx7Zb7/9Mn78+Mq23XffPccee2zKy8s3aIz99tsvRx55ZC677LIkf1kJs3jx4kyZMmWjalq6dGmaNWuWJUuWpGnTphs1BgAAAAAA8O2wsblBnW5HtmrVqjz33HPp379/lfb+/ftnxowZX3l9oVDIY489ljfeeCMHHnhglc+mT5+eli1bpnPnzjnzzDPzwQcfrHeclStXZunSpVUOAAAAAACATVGn25EtXLgwq1evTqtWraq0t2rVKvPnz1/vdUuWLEm7du2ycuXKlJaWpqKiIv369av8fMCAATnhhBPSoUOHzJo1KxdddFEOOeSQPPfccykrK6s2Xnl5eS655JLamxgAAAAAAPCdV+fvhEmSkpKSKueFQqFa2+c1adIkL774Yj7++OM89thjGTlyZHbcccccdNBBSZJBgwZV9u3SpUu6d++eDh065MEHH8xxxx1XbbxRo0Zl5MiRledLly5N+/btN3FWAAAAAADAd1mdhjAtWrRIaWlptVUvH3zwQbXVMZ9Xr1697LzzzkmSrl275vXXX095eXllCPNFbdq0SYcOHfLmm2+u8/OysrJ1rpABAAAAAADYWHX6Tpj69eunW7dumTp1apX2qVOnpnfv3hs8TqFQyMqVK9f7+aJFizJnzpy0adNmo2sFAAAAAACoiTrfjmzkyJEZPHhwunfvnl69euWmm27K7Nmzc9ZZZyVJhgwZknbt2qW8vDzJX97f0r179+y0005ZtWpVHnrooUycODHjx49Pknz88ccZPXp0jj/++LRp0yZvv/12/umf/iktWrTID3/4wzqbJwAAAAAA8N1S5yHMoEGDsmjRolx66aWZN29eunTpkoceeigdOnRIksyePTv16v11wc7y5cszfPjwvPvuu2nYsGF222233HHHHZXvgSktLc0rr7ySiRMnZvHixWnTpk0OPvjgTJ48OU2aNKmTOQIAAAAAAN89JYVCoVDXRXzTLF26NM2aNcuSJUvStGnTui4HAAAAAACoQxubG9T5ShgAAAAAADZ/10z9U12XQC05p1/nui7hW6PeV3cBAAAAAACgpoQwAAAAAAAARSCEAQAAAAAAKAIhDAAAAAAAQBEIYQAAAAAAAIpACAMAAAAAAFAEQhgAAAAAAIAiEMIAAAAAAAAUgRAGAAAAAACgCIQwAAAAAAAARSCEAQAAAAAAKAIhDAAAAAAAQBEIYQAAAAAAAIpACAMAAAAAAFAEQhgAAAAAAIAiEMIAAAAAAAAUgRAGAAAAAACgCIQwAAAAAAAARSCEAQAAAAAAKAIhDAAAAAAAQBEIYQAAAAAAAIpACAMAAAAAAFAEQhgAAAAAAIAiEMIAAAAAAAAUgRAGAAAAAACgCIQwAAAAAAAARSCEAQAAAAAAKAIhDAAAAAAAQBEIYQAAAAAAAIpACAMAAAAAAFAEQhgAAAAAAIAiEMIAAAAAAAAUgRAGAAAAAACgCIQwAAAAAAAARSCEAQAAAAAAKAIhDAAAAAAAQBEIYQAAAAAAAIpACAMAAAAAAFAEQhgAAAAAAIAiEMIAAAAAAAAUgRAGAAAAAACgCL4RIUxFRUU6deqUBg0apFu3bnnyySfX2/e+++5L9+7ds/XWW6dx48bp2rVrfvWrX1XpUygUMnr06LRt2zYNGzbMQQcdlFdffbXY0wAAAAAAAKhU5yHM5MmTM2LEiFx44YV54YUXcsABB2TAgAGZPXv2Ovs3b948F154YWbOnJmXX345p556ak499dQ88sgjlX3Gjh2bcePG5frrr88zzzyT1q1bp1+/flm2bNnXNS0AAAAAAOA7rqRQKBTqsoAePXpkv/32y/jx4yvbdt999xx77LEpLy/foDH222+/HHnkkbnssstSKBTStm3bjBgxIueff36SZOXKlWnVqlWuvPLKDBs27CvHW7p0aZo1a5YlS5akadOmGzcxAAAAAIDvkGum/qmuS6CWnNOvc12X8I2zsbnBFkWs6SutWrUqzz33XC644IIq7f3798+MGTO+8vpCoZDHH388b7zxRq688sokyaxZszJ//vz079+/sl9ZWVn69u2bGTNmbFAIAwAAAADfRX5E//bwIzp8M9RpCLNw4cKsXr06rVq1qtLeqlWrzJ8/f73XLVmyJO3atcvKlStTWlqaioqK9OvXL0kqr1vXmO+88846x1u5cmVWrlxZeb506dKNmg8AAABAXfMj+reHH9EBNn91GsKsVVJSUuW8UChUa/u8Jk2a5MUXX8zHH3+cxx57LCNHjsyOO+6Ygw46aKPGLC8vzyWXXLLxEwAAAAAAAPiCenV58xYtWqS0tLTaqpcPPvig2kqWz6tXr1523nnndO3aNeeee24GDhxY+f6Y1q1bJ0mNxhw1alSWLFlSecyZM2dTpgUAAAAAAFC3IUz9+vXTrVu3TJ06tUr71KlT07t37w0ep1AoVG4n1qlTp7Ru3brKmKtWrcoTTzyx3jHLysrStGnTKgcAAAAAAMCmqPPtyEaOHJnBgwene/fu6dWrV2666abMnj07Z511VpJkyJAhadeuXeVKl/Ly8nTv3j077bRTVq1alYceeigTJ07M+PHjk/xlG7IRI0ZkzJgx2WWXXbLLLrtkzJgxadSoUU466aQ6mycAAAAAAPDdUuchzKBBg7Jo0aJceumlmTdvXrp06ZKHHnooHTp0SJLMnj079er9dcHO8uXLM3z48Lz77rtp2LBhdtttt9xxxx0ZNGhQZZ+f/exnWbFiRYYPH56PPvooPXr0yKOPPpomTZp87fMDAAAAAAC+m0oKhUKhrov4plm6dGmaNWuWJUuW2JoMAAAA2KxcM/VPdV0CteScfp2/9nt6fr49PD9sirp4fr7pNjY3qPOVMAAAAEBVfsT69vAjFgB8twlhAAAAisQP6d8efkgHAGBj1PvqLgAAAAAAANSUEAYAAAAAAKAIhDAAAAAAAABFIIQBAAAAAAAoAiEMAAAAAABAEQhhAAAAAAAAikAIAwAAAAAAUARCGAAAAAAAgCIQwgAAAAAAABSBEAYAAAAAAKAIhDAAAAAAAABFIIQBAAAAAAAoAiEMAAAAAABAEQhhAAAAAAAAikAIAwAAAAAAUARCGAAAAAAAgCIQwgAAAAAAABSBEAYAAAAAAKAIhDAAAAAAAABFIIQBAAAAAAAoAiEMAAAAAABAEQhhAAAAAAAAikAIAwAAAAAAUARCGAAAAAAAgCIQwgAAAAAAABSBEAYAAAAAAKAIhDAAAAAAAABFsEVdFwAAG+KaqX+q6xKoJef061zXJQAAAAB8LayEAQAAAAAAKAIhDAAAAAAAQBEIYQAAAAAAAIpACAMAAAAAAFAEQhgAAAAAAIAiEMIAAAAAAAAUgRAGAAAAAACgCIQwAAAAAAAARSCEAQAAAAAAKAIhDAAAAAAAQBEIYQAAAAAAAIpACAMAAAAAAFAEW9R1AUlSUVGRq666KvPmzcuee+6Za6+9NgcccMA6+958882ZOHFi/vjHPyZJunXrljFjxuT73/9+ZZ+hQ4dmwoQJVa7r0aNHnn766eJNAgCAb6Vrpv6prkuglpzTr3NdlwAAAHzH1PlKmMmTJ2fEiBG58MIL88ILL+SAAw7IgAEDMnv27HX2nz59en784x9n2rRpmTlzZnbYYYf0798/7733XpV+RxxxRObNm1d5PPTQQ1/HdAAAAAAAAJJ8A0KYcePG5fTTT88ZZ5yR3XffPddee23at2+f8ePHr7P/r3/96wwfPjxdu3bNbrvtlptvvjlr1qzJY489VqVfWVlZWrduXXk0b97865gOAAAAAABAkjoOYVatWpXnnnsu/fv3r9Lev3//zJgxY4PG+OSTT/Lpp59WC1mmT5+eli1bpnPnzjnzzDPzwQcf1FrdAAAAAAAAX6VO3wmzcOHCrF69Oq1atarS3qpVq8yfP3+DxrjgggvSrl27HHbYYZVtAwYMyAknnJAOHTpk1qxZueiii3LIIYfkueeeS1lZWbUxVq5cmZUrV1aeL126dCNnBAAAAAAA8Bd1GsKsVVJSUuW8UChUa1uXsWPHZtKkSZk+fXoaNGhQ2T5o0KDK/+/SpUu6d++eDh065MEHH8xxxx1XbZzy8vJccsklmzADAAAAAACAqup0O7IWLVqktLS02qqXDz74oNrqmC+6+uqrM2adnNZlAAAgAElEQVTMmDz66KPZe++9v7RvmzZt0qFDh7z55pvr/HzUqFFZsmRJ5TFnzpyaTQQAAAAAAOAL6jSEqV+/frp165apU6dWaZ86dWp69+693uuuuuqqXHbZZXn44YfTvXv3r7zPokWLMmfOnLRp02adn5eVlaVp06ZVDgAAAAAAgE1RpyFMkowcOTL/9m//lltvvTWvv/56zjnnnMyePTtnnXVWkmTIkCEZNWpUZf+xY8fm5z//eW699dZ07Ngx8+fPz/z58/Pxxx8nST7++OOcd955mTlzZt5+++1Mnz49P/jBD9KiRYv88Ic/rJM5AgAAAAAA3z11/k6YQYMGZdGiRbn00kszb968dOnSJQ899FA6dOiQJJk9e3bq1ftrVlRRUZFVq1Zl4MCBVca5+OKLM3r06JSWluaVV17JxIkTs3jx4rRp0yYHH3xwJk+enCZNmnytcwMAAAAAAL676jyESZLhw4dn+PDh6/xs+vTpVc7ffvvtLx2rYcOGeeSRR2qpMgAAAAAAgI1T59uRAQAAAAAAfBsJYQAAAAAAAIpACAMAAAAAAFAEQhgAAAAAAIAiEMIAAAAAAAAUgRAGAAAAAACgCIQwAAAAAAAARSCEAQAAAAAAKAIhDAAAAAAAQBEIYQAAAAAAAIpACAMAAAAAAFAEQhgAAAAAAIAiEMIAAAAAAAAUwRZ1XQAAQLFdM/VPdV0CteScfp3rugQAAADYYFbCAAAAAAAAFIEQBgAAAAAAoAiEMAAAAAAAAEUghAEAAAAAACgCIQwAAAAAAEARCGEAAAAAAACKQAgDAAAAAABQBEIYAAAAAACAIhDCAAAAAAAAFIEQBgAAAAAAoAiEMAAAAAAAAEUghAEAAAAAACgCIQwAAAAAAEARCGEAAAAAAACKQAgDAAAAAABQBEIYAAAAAACAIhDCAAAAAAAAFIEQBgAAAAAAoAiEMAAAAAAAAEUghAEAAAAAACgCIQwAAAAAAEARCGEAAAAAAACKQAgDAAAAAABQBEIYAAAAAACAIqhxCDNr1qxi1AEAAAAAAPCtUuMQZuedd87BBx+cO+64I//zP/9TjJoAAAAAAAA2ezUOYV566aXsu+++Offcc9O6desMGzYs//Vf/1WM2gAAAAAAADZbNQ5hunTpknHjxuW9997Lbbfdlvnz52f//ffPnnvumXHjxmXBggXFqBMAAAAAAGCzUuMQZq0tttgiP/zhD3P33XfnyiuvzFtvvZXzzjsv22+/fYYMGZJ58+bVZp0AAAAAAACblY0OYZ599tkMHz48bdq0ybhx43LeeeflrbfeyuOPP5733nsvxxxzzAaPVVFRkU6dOqVBgwbp1q1bnnzyyfX2vfnmm3PAAQdkm222yTbbbJPDDjus2nZohUIho0ePTtu2bdOwYcMcdNBBefXVVzd2qgAAAAAAADVW4xBm3Lhx2WuvvdK7d+/MnTs3EydOzDvvvJNf/vKX6dSpU/r06ZMbb7wxzz///AaNN3ny5IwYMSIXXnhhXnjhhRxwwAEZMGBAZs+evc7+06dPz49//ONMmzYtM2fOzA477JD+/fvnvffeq+wzduzYjBs3Ltdff32eeeaZtG7dOv369cuyZctqOl0AAAAAAICNUuMQZvz48TnppJMye/bsTJkyJUcddVTq1as6zA477JBbbrllg8YbN25cTj/99JxxxhnZfffdc+2116Z9+/YZP378Ovv/+te/zvDhw9O1a9fstttuufnmm7NmzZo89thjSf6yCubaa6/NhRdemOOOOy5dunTJhAkT8sknn+TOO++s6XQBAAAAAAA2yhY1veDNN9/8yj7169fPKaec8pX9Vq1aleeeey4XXHBBlfb+/ftnxowZG1TPJ598kk8//TTNmzdPksyaNSvz589P//79K/uUlZWlb9++mTFjRoYNG1ZtjJUrV2blypWV50uXLt2gewMAAAAAAKxPjVfC3Hbbbbnnnnuqtd9zzz2ZMGFCjcZauHBhVq9enVatWlVpb9WqVebPn79BY1xwwQVp165dDjvssCSpvK4mY5aXl6dZs2aVR/v27Ws0DwAAAAAAgC+qcQhzxRVXpEWLFtXaW7ZsmTFjxmxUESUlJVXOC4VCtbZ1GTt2bCZNmpT77rsvDRo02OgxR40alSVLllQec+bMqeEMAAAAAAAAqqrxdmTvvPNOOnXqVK29Q4cOmT17do3GatGiRUpLS6utUPnggw+qrWT5oquvvjpjxozJ7373u+y9996V7a1bt07ylxUxbdq02aAxy8rKUlZWVqPaAQAAAAAAvkyNV8K0bNkyL7/8crX2l156Kdtuu22Nxqpfv366deuWqVOnVmmfOnVqevfuvd7rrrrqqlx22WV5+OGH07179yqfderUKa1bt64y5qpVq/LEE0986ZgAAAAAAAC1qcYrYU488cT89Kc/TZMmTXLggQcmSZ544on8wz/8Q0488cQaFzBy5MgMHjw43bt3T69evXLTTTdl9uzZOeuss5IkQ4YMSbt27VJeXp7kL1uQXXTRRbnzzjvTsWPHylU0W221VbbaaquUlJRkxIgRGTNmTHbZZZfssssuGTNmTBo1apSTTjqpxvUBAAAAAABsjBqHML/85S/zzjvv5NBDD80WW/zl8jVr1mTIkCEb9U6YQYMGZdGiRbn00kszb968dOnSJQ899FA6dOiQJJk9e3bq1fvrgp2KioqsWrUqAwcOrDLOxRdfnNGjRydJfvazn2XFihUZPnx4Pvroo/To0SOPPvpomjRpUuP6AAAAAAAANkaNQ5j69etn8uTJueyyy/LSSy+lYcOG2WuvvSpDk40xfPjwDB8+fJ2fTZ8+vcr522+//ZXjlZSUZPTo0ZWhDAAAAAAAwNetxiHMWp07d07nzp1rsxYAAAAAAIBvjY0KYd59993cf//9mT17dlatWlXls3HjxtVKYQAAAAAAAJuzGocwjz32WI4++uh06tQpb7zxRrp06ZK33347hUIh++23XzFqBAAAAAAA2OzU++ouVY0aNSrnnntu/vjHP6ZBgwa59957M2fOnPTt2zcnnHBCMWoEAAAAAADY7NQ4hHn99ddzyimnJEm22GKLrFixIltttVUuvfTSXHnllbVeIAAAAAAAwOaoxiFM48aNs3LlyiRJ27Zt89Zbb1V+tnDhwtqrDAAAAAAAYDNW43fC9OzZM//n//yf7LHHHjnyyCNz7rnn5pVXXsl9992Xnj17FqNGAAAAAACAzU6NQ5hx48bl448/TpKMHj06H3/8cSZPnpydd94511xzTa0XCAAAAAAAsDmqUQizevXqzJkzJ3vvvXeSpFGjRqmoqChKYQAAAAAAAJuzGr0TprS0NIcffngWL15crHoAAAAAAAC+FWoUwiTJXnvtlT//+c/FqAUAAAAAAOBbo8YhzOWXX57zzjsvDzzwQObNm5elS5dWOQAAAAAAAKjhO2GS5IgjjkiSHH300SkpKalsLxQKKSkpyerVq2uvOgAAAAAAgM1UjUOYadOmFaMOAAAAAACAb5UahzB9+/YtRh0AAAAAAADfKjUOYX7/+99/6ecHHnjgRhcDAAAAAADwbVHjEOaggw6q1vb5d8N4JwwAAAAAAEBSr6YXfPTRR1WODz74IA8//HC+973v5dFHHy1GjQAAAAAAAJudGq+EadasWbW2fv36paysLOecc06ee+65WikMAAAAAABgc1bjlTDrs9122+WNN96oreEAAAAAAAA2azVeCfPyyy9XOS8UCpk3b16uuOKK7LPPPrVWGAAAAAAAwOasxiFM165dU1JSkkKhUKW9Z8+eufXWW2utMAAAAAAAgM1ZjUOYWbNmVTmvV69etttuuzRo0KDWigIAAAAAANjc1TiE6dChQzHqAAAAAAAA+FapV9MLfvrTn+Zf/uVfqrVff/31GTFiRK0UBQAAAAAAsLmrcQhz7733pk+fPtXae/fund/85je1UhQAAAAAAMDmrsYhzKJFi9KsWbNq7U2bNs3ChQtrpSgAAAAAAIDNXY1DmJ133jkPP/xwtfb//M//zI477lgrRQEAAAAAAGzutqjpBSNHjsxPfvKTLFiwIIccckiS5LHHHss///M/59prr631AgEAAAAAADZHNQ5hTjvttKxcuTKXX355LrvssiRJx44dM378+AwZMqTWCwQAAAAAANgc1TiESZKzzz47Z599dhYsWJCGDRtmq622qu26AAAAAAAANms1DmFmzZqVzz77LLvssku22267yvY333wzW265ZTp27Fib9QEAAAAAAGyW6tX0gqFDh2bGjBnV2v/whz9k6NChtVETAAAAAADAZq/GIcwLL7yQPn36VGvv2bNnXnzxxVopCgAAAAAAYHNX4xCmpKQky5Ytq9a+ZMmSrF69ulaKAgAAAAAA2NzV+J0wBxxwQMrLyzNp0qSUlpYmSVavXp3y8vLsv//+tV4g8O1xzdQ/1XUJ1JJz+nWu6xIAAAAA4BuvxiHM2LFjc+CBB2bXXXfNAQcckCR58skns2TJkkybNq3WCwQAAAAAANgc1TiE2WOPPfLyyy/n+uuvz0svvZSGDRtmyJAh+fu///u88847xaiRbxirGb49rGYAAAAAACieGocwSdK2bduMGTMmSbJ48eL8+te/zmGHHZYXX3zRe2EAAAAAAACS1NvYCx9//PGcfPLJadu2ba6//voMGDAgzz77bG3WBgAAAAAAsNmq0UqYd999N7fffntuvfXWLF++PD/60Y/y6aef5t57780ee+xRrBoBAAAAAAA2Oxu8EuZv/uZvsscee+S1117Lddddl7lz5+a6664rZm0AAAAAAACbrQ0OYR599NGcccYZueSSS3LkkUemtLS0VgqoqKhIp06d0qBBg3Tr1i1PPvnkevu++uqrOf7449OxY8eUlJTk2muvrdZn9OjRKSkpqXK0bt26VmoFAAAAAADYUBscwjz55JNZtmxZunfvnh49euT666/PggULNunmkydPzogRI3LhhRfmhRdeyAEHHJABAwZk9uzZ6+z/ySefZMcdd8wVV1zxpcHKnnvumXnz5lUer7zyyibVCQAAAAAAUFMbHML06tUrN998c+bNm5dhw4blrrvuSrt27bJmzZpMnTo1y5Ytq/HNx40bl9NPPz1nnHFGdt9991x77bVp3759xo8fv87+3/ve93LVVVflxBNPTFlZ2XrH3WKLLdK6devKY7vttqtxbQAAAAAAAJtig0OYtRo1apTTTjstTz31VF555ZWce+65ueKKK9KyZcscffTRGzzOqlWr8txzz6V///5V2vv3758ZM2bUtKwq3nzzzbRt2zadOnXKiSeemD//+c9f2n/lypVZunRplQMAAAAAAGBT1DiE+bxdd901Y8eOzbvvvptJkybV6NqFCxdm9erVadWqVZX2Vq1aZf78+RtdU48ePTJx4sQ88sgjufnmmzN//vz07t07ixYtWu815eXladasWeXRvn37jb4/AAAAAABAsokhzFqlpaU59thjc//999f42pKSkirnhUKhWltNDBgwIMcff3z22muvHHbYYXnwwQeTJBMmTFjvNaNGjcqSJUsqjzlz5mz0/QEAAAAAAJJki7q6cYsWLVJaWlpt1csHH3xQbXXMpmjcuHH22muvvPnmm+vtU1ZW9qXvmAEAAAAAAKipWlkJszHq16+fbt26ZerUqVXap06dmt69e9fafVauXJnXX389bdq0qbUxAQAAAAAAvkqdrYRJkpEjR2bw4MHp3r17evXqlZtuuimzZ8/OWWedlSQZMmRI2rVrl/Ly8iTJqlWr8tprr1X+/3vvvZcXX3wxW221VXbeeeckyXnnnZcf/OAH2WGHHfLBBx/kl7/8ZZYuXZpTTjmlbiYJAAAAAAB8J9VpCDNo0KAsWrQol156aebNm5cuXbrkoYceSocOHZIks2fPTr16f12sM3fu3Oy7776V51dffXWuvvrq9O3bN9OnT0+SvPvuu/nxj3+chQsXZrvttkvPnj3z9NNPV44JAAAAAADwdajTECZJhg8fnuHDh6/zs7XBylodO3ZMoVD40vHuuuuu2ioNAAAAAABgo9XZO2EAAAAAAAC+zYQwAAAAAAAARSCEAQAAAAAAKAIhDAAAAAAAQBEIYQAAAAAAAIpACAMAAAAAAFAEQhgAAAAAAIAiEMIAAAAAAAAUgRAGAAAAAACgCIQwAAAAAAAARSCEAQAAAAAAKAIhDAAAAAAAQBEIYQAAAAAAAIpACAMAAAAAAFAEQhgAAAAAAIAiEMIAAAAAAAAUgRAGAAAAAACgCIQwAAAAAAAARSCEAQAAAAAAKAIhDAAAAAAAQBEIYQAAAAAAAIpACAMAAAAAAFAEQhgAAAAAAIAiEMIAAAAA8P/au/f4nuv//+P3Hexgs8kmG81xjh9nSQiJWXQY5lDJqXVAiY+KRCFFfJGolMoxocIPhRqijCTnWM5MbAnlkNjw+P3hstfHuw1j3uZwu14u7wvv1+v5er6er/f7sdfr+Xo/Xs/XCwAAuAFJGAAAAAAAAAAAADcgCQMAAAAAAAAAAOAGJGEAAAAAAAAAAADcgCQMAAAAAAAAAACAG5CEAQAAAAAAAAAAcAOSMAAAAAAAAAAAAG5AEgYAAAAAAAAAAMANSMIAAAAAAAAAAAC4AUkYAAAAAAAAAAAANyAJAwAAAAAAAAAA4AYkYQAAAAAAAAAAANyAJAwAAAAAAAAAAIAbkIQBAAAAAAAAAABwA5IwAAAAAAAAAAAAbkASBgAAAAAAAAAAwA1IwgAAAAAAAAAAALgBSRgAAAAAAAAAAAA3IAkDAAAAAAAAAADgBtdFEub9999XsWLF5Ofnp2rVqumHH364YNlNmzYpNjZWRYsWlYeHh0aOHJntOgEAAAAAAAAAAK62HE/CTJ8+Xd27d1efPn20du1a1alTR40bN1ZSUlKm5U+cOKHixYvrrbfeUlhY2FWpEwAAAAAAAAAA4GrL8STMiBEjFBcXpyeffFJly5bVyJEjFRERoTFjxmRavnr16vq///s/PfLII/L19b0qdQIAAAAAAAAAAFxtOZqESU1N1erVq9WoUSOX6Y0aNdLy5cuvmzoBAAAAAAAAAAAul3dOrvzgwYM6c+aMChQo4DK9QIECSklJuWZ1njp1SqdOnXLeHz169IrWDQAAAAAAAAAAkC7Hb0cmSR4eHi7vzSzDNHfWOXjwYAUHBzuviIiIbK0bAAAAAAAAAAAgR5MwoaGh8vLyyjBC5cCBAxlGsrizzt69e+vIkSPOa+/evVe0bgAAAAAAAAAAgHQ5moTx8fFRtWrVFB8f7zI9Pj5etWrVumZ1+vr6KigoyOUFAAAAAAAAAACQHTn6TBhJ6tGjh9q2bas777xTNWvW1NixY5WUlKROnTpJktq1a6dChQpp8ODBkqTU1FRt3rzZ+f++ffu0bt06BQYGKjIyMkt1AgAAAAAAAAAAuFuOJ2Fat26tQ4cO6fXXX1dycrLKly+vefPmqUiRIpKkpKQkeXr+b8DO/v37VaVKFef9sGHDNGzYMNWrV09LlizJUp0AAAAAAAAAAADuluNJGEnq0qWLunTpkum89MRKuqJFi8rMslUnAAAAAAAAAACAu+XoM2EAAAAAAAAAAABuViRhAAAAAAAAAAAA3IAkDAAAAAAAAAAAgBuQhAEAAAAAAAAAAHADkjAAAAAAAAAAAABuQBIGAAAAAAAAAADADUjCAAAAAAAAAAAAuAFJGAAAAAAAAAAAADcgCQMAAAAAAAAAAOAGJGEAAAAAAAAAAADcgCQMAAAAAAAAAACAG5CEAQAAAAAAAAAAcAOSMAAAAAAAAAAAAG5AEgYAAAAAAAAAAMANSMIAAAAAAAAAAAC4AUkYAAAAAAAAAAAANyAJAwAAAAAAAAAA4AYkYQAAAAAAAAAAANyAJAwAAAAAAAAAAIAbkIQBAAAAAAAAAABwA5IwAAAAAAAAAAAAbkASBgAAAAAAAAAAwA1IwgAAAAAAAAAAALgBSRgAAAAAAAAAAAA3IAkDAAAAAAAAAADgBiRhAAAAAAAAAAAA3IAkDAAAAAAAAAAAgBuQhAEAAAAAAAAAAHADkjAAAAAAAAAAAABuQBIGAAAAAAAAAADADUjCAAAAAAAAAAAAuAFJGAAAAAAAAAAAADcgCQMAAAAAAAAAAOAGJGEAAAAAAAAAAADcgCQMAAAAAAAAAACAG5CEAQAAAAAAAAAAcAOSMAAAAAAAAAAAAG5AEgYAAAAAAAAAAMANSMIAAAAAAAAAAAC4AUkYAAAAAAAAAAAANyAJAwAAAAAAAAAA4AYkYQAAAAAAAAAAANyAJAwAAAAAAAAAAIAbXBdJmPfff1/FihWTn5+fqlWrph9++OGi5WfMmKFy5crJ19dX5cqV06xZs1zmd+jQQR4eHi6vu+++252bAAAAAAAAAAAA4CLHkzDTp09X9+7d1adPH61du1Z16tRR48aNlZSUlGn5FStWqHXr1mrbtq3Wr1+vtm3bqlWrVlq5cqVLufvvv1/JycnOa968eddicwAAAAAAAAAAACRdB0mYESNGKC4uTk8++aTKli2rkSNHKiIiQmPGjMm0/MiRIxUVFaXevXurTJky6t27txo0aKCRI0e6lPP19VVYWJjzypcv37XYHAAAAAAAAAAAAEk5nIRJTU3V6tWr1ahRI5fpjRo10vLlyzNdZsWKFRnKR0dHZyi/ZMkS3X777SpVqpSeeuopHThw4ILtOHXqlI4ePeryAgAAAAAAAAAAyI4cTcIcPHhQZ86cUYECBVymFyhQQCkpKZkuk5KScsnyjRs31pQpU7R48WINHz5cq1at0n333adTp05lWufgwYMVHBzsvCIiIrK5ZQAAAAAAAAAA4FbnndMNkCQPDw+X92aWYdrllG/durXz//Lly+vOO+9UkSJF9PXXX6t58+YZ6uvdu7d69OjhvD969CiJGAAAAAAAAAAAkC05moQJDQ2Vl5dXhlEvBw4cyDDaJV1YWNhllZek8PBwFSlSRNu2bct0vq+vr3x9fS+z9QAAAAAAAAAAABeWo7cj8/HxUbVq1RQfH+8yPT4+XrVq1cp0mZo1a2Yo/+23316wvCQdOnRIe/fuVXh4ePYbDQAAAAAAAAAAkAU5fjuyHj16qG3btrrzzjtVs2ZNjR07VklJSerUqZMkqV27dipUqJAGDx4sSerWrZvq1q2rIUOGKCYmRrNnz9bChQu1bNkySdLx48fVv39/xcbGKjw8XLt379Yrr7yi0NBQNWvWLMe2EwAAAAAAAAAA3FpyPAnTunVrHTp0SK+//rqSk5NVvnx5zZs3T0WKFJEkJSUlydPzfwN2atWqpWnTpqlv37569dVXVaJECU2fPl01atSQJHl5eWnjxo2aNGmS/vrrL4WHh6t+/fqaPn268uTJkyPbCAAAAAAAAAAAbj05noSRpC5duqhLly6ZzluyZEmGaS1atFCLFi0yLe/v769vvvnmajYPAAAAAAAAAADgsuXoM2EAAAAAAAAAAABuViRhAAAAAAAAAAAA3IAkDAAAAAAAAAAAgBuQhAEAAAAAAAAAAHADkjAAAAAAAAAAAABuQBIGAAAAAAAAAADADUjCAAAAAAAAAAAAuAFJGAAAAAAAAAAAADcgCQMAAAAAAAAAAOAGJGEAAAAAAAAAAADcgCQMAAAAAAAAAACAG5CEAQAAAAAAAAAAcAOSMAAAAAAAAAAAAG5AEgYAAAAAAAAAAMANSMIAAAAAAAAAAAC4AUkYAAAAAAAAAAAANyAJAwAAAAAAAAAA4AYkYQAAAAAAAAAAANyAJAwAAAAAAAAAAIAbkIQBAAAAAAAAAABwA5IwAAAAAAAAAAAAbkASBgAAAAAAAAAAwA1IwgAAAAAAAAAAALgBSRgAAAAAAAAAAAA3IAkDAAAAAAAAAADgBiRhAAAAAAAAAAAA3IAkDAAAAAAAAAAAgBuQhAEAAAAAAAAAAHADkjAAAAAAAAAAAABuQBIGAAAAAAAAAADADUjCAAAAAAAAAAAAuAFJGAAAAAAAAAAAADcgCQMAAAAAAAAAAOAGJGEAAAAAAAAAAADcgCQMAAAAAAAAAACAG5CEAQAAAAAAAAAAcAOSMAAAAAAAAAAAAG5AEgYAAAAAAAAAAMANSMIAAAAAAAAAAAC4AUkYAAAAAAAAAAAANyAJAwAAAAAAAAAA4AYkYQAAAAAAAAAAANzgukjCvP/++ypWrJj8/PxUrVo1/fDDDxctP2PGDJUrV06+vr4qV66cZs2a5TLfzNS/f38VLFhQ/v7+uvfee7Vp0yZ3bgIAAAAAAAAAAICLHE/CTJ8+Xd27d1efPn20du1a1alTR40bN1ZSUlKm5VesWKHWrVurbdu2Wr9+vdq2batWrVpp5cqVTpmhQ4dqxIgRevfdd7Vq1SqFhYUpKipKx44du1abBQAAAAAAAAAAbnE5noQZMWKE4uLi9OSTT6ps2bIaOXKkIiIiNGbMmEzLjxw5UlFRUerdu7fKlCmj3r17q0GDBho5cqSkc6NgRo4cqT59+qh58+YqX768Jk6cqBMnTuizzz67lpsGAAAAAAAAAABuYd45ufLU1FStXr1aL7/8ssv0Ro0aafny5Zkus2LFCv33v/91mRYdHe0kYXbt2qWUlBQ1atTIme/r66t69epp+fLleuaZZzLUeerUKZ06dcp5f+TIEUnS0aNHr2zDbnIn/z6e003AVXKtY5zYuXnkxP6R+Ll5ED/IDuIH2UH8IDvoO+NKse9BdhA/yA7iB9nBb+MZpX8mZnZZy+VoEubgwYM6c+aMChQo4DK9QIECSklJyXSZlJSUi5ZP/zezMnv27Mm0zsGDB2vAgAEZpkdERGRtQ4Ab1Cs53QDcsIgdZAfxg+wgfpAdxA+yg/jBlSJ2kB3ED7KD+EF2ED8XduzYMQUHB2e5fI4mYdJ5eHi4vDezDHfNBRkAACAASURBVNMut/zl1Nm7d2/16NHDeX/27FkdPnxYISEhF20Hbk5Hjx5VRESE9u7dq6CgoJxuDm4wxA+yg/jBlSJ2kB3ED7KD+EF2ED/IDuIHV4rYQXYQP7c2M9OxY8dUsGDBy1ouR5MwoaGh8vLyyjDq5cCBAxlGsqQLCwu7aPmwsDBJ50bEhIeHZ6lOX19f+fr6ukzLmzfv5W0MbjpBQUHsTHHFiB9kB/GDK0XsIDuIH2QH8YPsIH6QHcQPrhSxg+wgfm5dlzMCJp2nG9qRZT4+PqpWrZri4+NdpsfHx6tWrVqZLlOzZs0M5b/99lunfLFixRQWFuZSJjU1VUuXLr1gnQAAAAAAAAAAAFdbjt+OrEePHmrbtq3uvPNO1axZU2PHjlVSUpI6deokSWrXrp0KFSqkwYMHS5K6deumunXrasiQIYqJidHs2bO1cOFCLVu2TNK525B1795dgwYNUsmSJVWyZEkNGjRIuXPn1mOPPZZj2wkAAAAAAAAAAG4tXv379++fkw0oX768QkJCNGjQIA0bNkz//POPJk+erEqVKkmS3nnnHXl7e6tp06aSpIiICJUrV04jRozQoEGDlJSUpDFjxigqKsqps3bt2jp16pRef/11jRo1SkFBQZo2bZoiIiJyZBtx4/Hy8tK9994rb+8cz1PiBkT8IDuIH1wpYgfZQfwgO4gfZAfxg+wgfnCliB1kB/GDy+VhZpbTjQAAAAAAAAAAALjZ5OgzYQAAAAAAAAAAAG5WJGEAAAAAAAAAAADcgCQMAAAAAAAAAACAG5CEAQA36tChg5o2bZrTzQAAAAAAt7nnnnv04osv5nQzLsvJkyfl4eGhBQsW5HRTkAOu5bn6woUL5eHhoePHj1+T9QG4/pCEwXWrQ4cO8vDwUKdOnTLM69Klizw8PNShQ4dsr2f37t3y8PDQunXrXKb3799fHh4eGV4LFy7M9jpxbaXHkoeHh7y9vVW4cGF17txZf/75Z043DTe582MvV65cKlCggKKiojRu3DidPXvWpezatWvVsmVLFShQQH5+fipVqpSeeuopbd269YL7o/Nfu3fvzpmNhNscOHBAzzzzjAoXLixfX1+FhYUpOjpaS5cuVWhoqN54441Mlxs8eLBCQ0OVmpoqSUpNTdXQoUNVqVIl5c6dW6Ghoapdu7bGjx+vtLS0a7lJyAZ3/1Bw/n7G09NTBQsWVJs2bbR37163rfNm8O/9fPHixfXiiy/q77//vip1Z/adn7/vDwwMVKVKlTRhwgSXMkuWLMn0WNG3b9+Lzvfw8FBKSopTz9GjR9WnTx+VKVNGfn5+CgsLU8OGDTVz5kyZmSpUqKAnn3wy0/ZPnTpVuXLl0u+//37R7Uxvy19//XWZn1DWpff301/BwcG6++67NXfuXLet0x2It+zHmyR9+OGHqlSpkgICApQ3b15VqVJFQ4YMkSR17dpVJUuWzHS5ffv2ycvLSzNnznSmfffdd2rSpIlCQkKUO3dulStXTi+88IL27dt3yXbciM6PwfNf27dv15w5c9SvX78rrvv06dPy8PDQV1995UwbMmSIbrvtNp08eTJD+RMnTigoKEijRo3KUv0vv/yy7r77bpdpfn5+Sk5O1n333XfF7caF+6wrVqzI6aZl2UMPPaSGDRtmOm/FihXy8PDQmjVrslRXZgnJunXrKjk5WQEBAdlu663uUufFV+N3wsz2Fxcqd/5vTfnz51e9evU0evRo51wsqxYsWCAPD49M93e4OZCEwXUtIiJC06ZN0z///ONMO3nypKZOnarChQu7ff3/+c9/lJyc7PKqW7dupmUvdweLa+v+++9XcnKydu/erY8//lhz585Vly5dcrpZuAWcH3vz589X/fr11a1bNz344IM6ffq0JOmrr77S3XffrVOnTmnKlClKTEzU5MmTFRwcrFdffVUvvviiy37ojjvu0Ouvv+4yLSIiIoe3FFdbbGys1q9fr4kTJ2rr1q2aM2eO7r33Xh0/flyPP/64JkyYIDPLsNz48ePVtm1b+fj4KDU1VdHR0Xrrrbf09NNPa/ny5frpp5/07LPPavTo0dq0aVMObBmuV+n9nt9++03Tp0/Xxo0b1apVq5xu1nUvfT+/c+dOvfHGG3r//ffdfjX4+PHjlZycrPXr16t169bq2LGjvvnmmwzltmzZ4nKsePnlly86Pzk5Wbfffrsk6a+//lKtWrU0adIk9e7dW2vWrNH333+v1q1bq2fPnjpy5Iji4uL0+eef68SJExnWPW7cOD344IMqUKCAez6EK7Bw4UIlJydr5cqVuuuuuxQbG6tffvklp5t1WYi37MXbJ598oh49euj555/X+vXrlZCQoJ49ezpXp8fFxWn79u364YcfMiw7YcIEhYSE6KGHHpJ0LpnTsGFDhYWFacaMGdq8ebM++OADHTlyRMOHD8/ah3sDSo/B81/FihVTvnz5lCdPngsudyXny+3bt9fx48c1a9asDPO++OILpaam6vHHH7/ses8XFhYmHx+fbNVxq7tQn/Xw4cM53bQsi4uL0+LFi7Vnz54M88aNG6fKlSuratWqV1y/j4+PwsLC5OHhkZ1mQnLZ94wcOVJBQUEu0955551r2p6qVasqOTlZSUlJWrhwoZo1a6YBAwaobt26mR6vcAsz4DrVvn17i4mJsQoVKtinn37qTJ8yZYpVqFDBYmJirH379mZmdvLkSevatavlz5/ffH19rXbt2vbTTz85yxw+fNgee+wxCw0NNT8/P4uMjLRx48aZmZkkl1e9evXMzKxfv35WqVKlC7avTZs2FhsbawMHDrTw8HArUaKE05YXXnjBChYsaLlz57YaNWrY0qVLXZb9+OOP7Y477jB/f39r3ry5DR061EJCQq7Gx4ZMpMfS+Xr06GH58uVz3g8fPtzKly9vuXPntjvuuMM6d+5sx44dc+aPHz/egoODbcGCBVamTBkLCAiw6Oho279/v1Pm9OnT9t///teCg4MtX7589tJLL1m7du1c1n2pWP3uu+9Mki1YsMAqV65sfn5+Vr9+ffv9999t3rx5VqZMGcuTJ4898sgj9vfff7vj48JVlFnsmZktWrTIJNlHH31kf//9t4WGhlrTpk0zrePPP//MMK1IkSL29ttvX/X24vrx559/miRbsmRJpvM3bNiQ6fzvv//eJNnGjRvNzGzIkCHm6elpa9asyVBHamqqHT9+/Oo3Hm5xof2JmdmePXvs4YcftoCAAMuTJ4+1bNnSUlJSXMoMHDjQ8ufPb4GBgRYXF2e9evVy6edk1u8ZNWqUSbIjR444006dOmUvvfSS08+566677LvvvnNZbuzYsU4/p2nTpjZ8+HALDg7O5idwfcrse3nyySctLCzMzMyWLFli1atXNx8fHwsLC7NevXpZWlqaU/aLL76w8uXLm5+fn+XLl88aNGhgx48ft379+mXoo6Z/zpJs1qxZLuvMly+f9ejRw3mf3p/I7BiSlflmZp07d7aAgADbt29fhnnHjh2ztLQ0O3jwoPn4+NiECRNc5u/Zs8c8PT1t7ty5F6w/q205c+aMDRgwwAoVKmQ+Pj5WqVIlmz9/vkuZhIQEq1Spkvn6+lq1atVs1qxZJsnWrl1rZma7du1yeW9mdvToUZNko0aNcqlrzpw5VrVqVfP19bVixYpZ//79Xb6zxMREq127tvn6+lrZsmUtPj4+0+/EHYi37MdbTEyMdejQ4aJlqlatmmmZyMhIe+GFF8zMbO/evebj42Pdu3fPtI6LbeuN7GLHotq1azufj5lZoUKF7M0337S2bdtanjx57IknnrCTJ09ap06dLCwszHx9fa1IkSI2ZMgQp/z5MZh+fv3www9bw4YNM6yvbt261rp1a+f9jh077IEHHrDcuXNbcHCwPfroo/bHH3+YmdmYMWMyxPjUqVPtn3/+MUnOPiUxMdEk2ezZs+2ee+4xf39/q1y5sq1atcpl3e+++65zHGzZsqW99dZbVqBAgWx8sjeuS/VZzcz++usve+qppyx//vyWJ08eq1+/vq1bt86lzOzZs61atWrm6+trISEh1qxZM2fe4cOHrW3btpY3b17z9/e3+++/37Zu3erMvxrn6mlpaVagQAHr37+/S7v+/vtvy5Mnj40ePdqZtnjxYqtWrZr5+PhYeHi4vfLKK3b69GkzO/c70b9jbe/evc6xIv03ho8++shCQkJs3rx5Vrp0aQsICLDGjRu79N9SU1Pt2WeftaCgIMuXL5/17t3bHnvsMYuNjc3y93OzS//uM7N7926LjY21oKAgJ6aSkpKc+d9++61Vq1bN/P39LW/evHbPPffYvn37Lri/yEyvXr2sRo0aGaZv2LDBvLy8bODAgc60Tz75xKpUqWIBAQEWFhZmbdu2dfZR6fue81/PPPOMmZ3rl9SsWdPZjocffth27dp1pR8ZchAjYXDd69ixo8aPH++8HzdunJ544gmXMj179tSMGTM0ceJErVmzRpGRkYqOjnauvHj11Ve1efNmzZ8/X4mJiRozZoxCQ0MlST/99JOk/10Zd/7w8kv55ptvtGPHDsXHx2v27NmSpHbt2mnlypWaPn26NmzYoGbNmik6Olo7d+6UJC1fvlxPP/20unbtqnXr1qlOnTp68803r/wDwmXbuXOnFixYoFy5cjnTPD09NWrUKP3yyy+aOHGiFi9erJ49e7osd+LECQ0bNkyTJ0/W999/r6SkJJcrD4cPH65x48bpk08+0bJly3T48OEMV21dKlbT9e/fX++++66WL1+uvXv3qlWrVho5cqQ+++wzff3114qPj9fo0aPd8OngWrjvvvtUqVIlzZw5U998840OHjyYId7S5c2b9xq3DteDwMBABQYG6v/9v/+nU6dOZZhfoUIFVa9e3eX4KJ07Rt51110qX768JGnKlClq2LChqlSpkqGOXLlycUuEm4CZqWnTpjp8+LCWLl2q+Ph47dixQ61bt3bKTJkyRW+++aaGDBmi1atXq3DhwhozZsxF601JSdHMmTPl5eUlLy8vZ3rHjh2VkJCgadOmacOGDWrZsqXuv/9+bdu2TZKUkJCgTp06qVu3blq3bp2ioqJuuX6Ov7+/0tLStG/fPjVp0kTVq1fX+vXrNWbMGH3yySfOrQSTk5P16KOP6oknnlBiYqKWLFmi5s2by8z04osvqlWrVi5XnNeqVSvDus6cOaPPP/9chw8fdunXZNfZs2c1bdo0tWnTRgULFswwPzAwUN7e3goJCVFMTEyGfdH48eNVoEABNW7cONtteeeddzR8+HANGzZMGzZsUHR0tB5++GEn5o4dO6aHHnpIFSpU0Jo1azRw4ED16tXronWmpaXpo48+kiSXz+2bb77R448/rueff16bN2/Whx9+qAkTJjgxfPbsWTVt2lS5c+fWypUrNXbsWPXp0yfb25gdxNvlxVtYWJh+/PHHTK92TxcXF6cvvvjC5dkNS5cu1fbt253z0PRRGPTfLm7o0KGqUqWK1q5dq1deeUVvv/225s+fry+++EJbtmzR5MmTnTtcrFq1SpI0efJkJScn68cff5T0vxEKSUlJTr07duzQDz/8oLi4OEnnYvOhhx7SiRMntGzZMs2fP1+bNm1yRsm0b99ezz33nHPFenJy8kVv8dmnTx/17dtX69atU+HChfXYY485txJetGiRunXrpp49e2rt2rW65557nNvZ3You1Wc1Mz3wwANKSUnRvHnztHr1alWtWlUNGjRwzoG//vprNW/eXA888IDWrl2rRYsW6c4773Tq6NChg37++WfNmTNHK1askJmpSZMmLrfVze65ure3t9q1a5dhpHn633qbNm0kSXv37lWTJk1Uq1YtrV+/Xu+++64++OADDR48WJL03nvv6a677lLnzp2dWMtsvyadO36NHDlSU6ZM0dKlS7Vjxw6XfcqgQYM0bdo0TZo0ScuWLdPBgwddbteHCzt27Jjuvfde5c+fXwkJCVq6dKm8vb31wAMP6PTp0zp58qSaNWum+++/X7/88osSEhLUsWNHSZe/v8hMhQoVnNtppjt9+rQGDx6sDRs2aMaMGUpMTNTTTz8tSSpZsqQ+++wzSeduoZqcnKyhQ4dKOhfbvXr10urVq/Xtt9/q1KlTatGiRaZ3RMB1LgcTQMBFpV9l88cff5ivr6/t2rXLdu/ebX5+fvbHH384I2GOHz9uuXLlsilTpjjLpqamWsGCBW3o0KFmZvbQQw9Zx44dM11PZlfGmZ27ItTT09MCAgKcV/Xq1Z35bdq0sYIFC1pqaqozbcuWLebp6Znh6tN69erZq6++amZmLVu2tAcffNBlfmxsLCNh3Kh9+/bm5eVlAQEB5ufn51xZMGLEiAsu8/nnn7t8J+PHjzdJtn37dmfae++953LFU3h4uL311lvO+7S0NLvjjjucq2uyEqvpVwouXLjQKTN48GCTZDt27HCmPfPMMxYdHX0lHweuoYtdLdi6dWsrW7asDRkyxCTZ4cOHs1wvI2FuDV9++aXddttt5ufnZ7Vq1bLevXvb+vXrnfljxoyxgIAA54q6Y8eOWUBAgH344YdOGX9/f3v++eevedtx9V1of/Ltt9+al5eXy5V9mzZtMknOSMsaNWrYs88+67Jc7dq1M4yESe/3+Pv7O8fK8+Nn+/bt5uHhkeFK9QYNGljv3r3N7Ny+7YEHHnCZ36ZNm1tmJMzKlSstJCTEWrVqZa+88oqVLl3azp4968x/7733LDAw0M6cOWOrV682SbZ79+4s1Z1Okvn5+VlAQIB5eXmZJMuXL59t27bNKZPenzi/HxsQEGAHDx686PxSpUqZmdnvv/9+yb5Suvnz55uHh4fTTzl79qwVLVrUiYlLudQoiYIFC9qbb77pMq169erWpUsXMzu3LwwJCbF//vnHmf/RRx9lOhLG39/fAgICzNPT0yRZ0aJF7dChQ85yderUsUGDBrmsa/LkyRYeHu5sq7e3tyUnJzvzc3IkDPF2+fG2f/9+u/vuu02SlSpVytq3b2/Tp0+3M2fOOGX+/PNP8/Pzc+6cYGbWrl07q1mzpvO+c+fOFhQUlKV13kzOP69Kf7Vo0cLMMh8Jkz4vXefOnS0qKsolTtOlpaWZpAwjmtLS0iwsLMxef/11Z9orr7xiRYoUcb63OXPmmI+Pj8vfZnrMb9iwwcwyv2L9QiNhzr8TR3o96Veex8TEZBiJEBsbe8uOhDG7eJ910aJFFhQUZCdPnnRZpkSJEk6ftWbNmtamTZtM6966datJsoSEBGfawYMHzd/f3z7//HMzuzrn6mb/+/4XL17sTKtbt649+uijzvuePXtauXLlXGL4nXfecenn/PtvwcwyHQnz733yO++8Y4UKFXLeh4SEuJzzpaWlWaFChRgJc54LjYR57733MozwPnHihOXKlcuWLl1q+/btM0n2448/ZlrvhUa4XE65bt262W233XbBZb///nvz9PS0U6dOmdm545skl/5MZpKSkkySy3EYNwZGwuC6FxoaqgceeEATJ07U+PHj9cADDzijWKRzV8GkpaWpdu3azrRcuXLprrvuUmJioiSpc+fOmjZtmipXrqyePXtq+fLlWVp36dKltW7dOuc1Y8YMl/kVK1Z0uQps9erVOnv2rEqUKOFcERIYGKiEhATt2LFDkpSYmKiaNWu61PPv97j66tevr3Xr1mnlypXq2rWroqOj1bVrV2f+d999p6ioKBUqVEh58uRRu3btdOjQIZcHnebOnVslSpRw3oeHh+vAgQOSpCNHjig5Odnlu/T29na5gicrsZquYsWKzv8LFCig3Llzq3jx4i7T0teNG5OZycPDgytYcEGxsbHav3+/5syZo+joaC1ZskRVq1Z1Hoj86KOP6uzZs5o+fbokafr06TIzPfLII04d6XGGm1diYqIiIiJcngtVrlw55c2b1zm2bNmyRXfddZfLcv9+L/2v37Nq1Sq9+eabqly5sssoljVr1sjMVKpUKZd+TvrVm5ezrpvJV199pcDAQPn5+almzZqqW7euRo8e7fT5zv8brF27to4fP67ffvtNlSpVUoMGDVShQgW1bNlSH330kf78888srfPtt9/WunXrFB8fr8qVK+vtt99WZGRkhnI//PCDS1/2tttuu+j89Od8pB+bsrL/aNSoke644w5ndMLixYu1e/du54rS7Dh69Kj279/v0neSzn2O58d3xYoV5efn58y/UMxNnz5da9eu1Zw5cxQZGamPP/5Y+fLlc+avXr1ar7/+ukt8P/XUU0pOTtaJEye0ZcsWRUREKCws7JLrchfiLXvxFh4erhUrVmjjxo16/vnnlZaWpvbt2+v+++93RjrkzZtXzZs317hx4ySdu6J6xowZLndjuJWPr+nnVemvUaNGXbDs+edC0rnRlKtWrVKZMmXUrVs3LVy48JLr+/cIhbNnz2rSpEnq0KGDPD3P/aSVmJio4sWLu/xtVq1aVf7+/hnOs7Li/HOx8PBwSXLOvW7F49ylXKzPunr1ah0/flwhISEu+9Zdu3Y5fYd169apQYMGmdadmJgob29v1ahRw5kWEhKi0qVLu3y32T1Xl6QyZcqoVq1azt9++oir8//2ExMTVatWrQz72iNHjmj//v2X9bkFBQWpSJEimbb50KFDOnTokEtseXt7Z+u5NLeS1atXa9OmTS4xlz9/fp0+fVo7duxQwYIF9cgjj6h+/fqKiYnR6NGj9fvvv1/VNvz7OLFq1So9+OCDKly4sPLkyeMcd3777beL1rN161Y98sgjKl68uPLkyaOyZctKksvoQNwYvHO6AUBWPPHEE3ruuecknRveeb4LddrP3+E1btxYe/bs0ddff62FCxeqQYMGevbZZzVs2LCLrtfHxyfTE4x0/76Ny9mzZ5UrVy6tXbs2Q3sCAwNd2otrKyAgwPkuR40apfr162vAgAEaOHCg9uzZoyZNmqhTp04aOHCg8uXLp2XLlikuLs5liPO/b7twuT+gZyVWM1uXh4dHputOP1HEjSkxMVHFihVTqVKlJEm//vorCVlk4Ofnp6ioKEVFRem1117Tk08+qX79+qlDhw4KDg5WixYtNH78eMXFxWn8+PFq0aKFgoKCnOVLlSp1RT8+4MZxoR8C/z09s2PPv53f7/nPf/6jbdu2qXPnzpo8ebKkc/0cLy8vrV692uUWZZJrPycr67qZ1K9fX2PGjFGuXLlUsGBB55h9sc/Cw8NDXl5eio+P1/Lly/Xtt99q9OjR6tOnj1auXKlixYpddJ1hYWGKjIxUZGSkvvjiC1WpUkV33nmnypUr51KuWLFiF70t0oXm58+fX7fddluW9h+enp7q0KGDJkyYoAEDBmj8+PGqW7euSpYseclls+pifafLibmIiAiVLFlSJUuWVGBgoGJjY7V582bn4fBnz57VgAED1Lx58wzL+vn5XRc/vBNvVyfeypcvr/Lly+vZZ5/VsmXLVKdOHS1dulT169eXdO4WWA0aNNC2bdu0dOlSSXK5zWOpUqWcH3bTf6S/VZx/XpWVsuerXr26du/erfnz52vhwoWKjY1V48aNNW3atIvWExcXp6FDh2rp0qU6efKk9u3b55J4y+qxMKv+fS4myTn3uhWPc1lxoT5rly5dFB4eriVLlmRYJn1/4O/vf8F6L/TZ/vt7yO65erq4uDg999xzeu+99zR+/HgVKVLEJUF0qX3t5bjYOf7FfjvApZ09e1Y1a9Z0EmrnSz/mT506VatXr9aCBQv06aefqm/fvvruu++uWqIr/XxfOpcIjI6OVkxMjD777DPlz59fW7du1cMPP6zU1NQL1mFmaty4scqWLatPPvlE4eHhOnHihKpVq3bR5XB9YiQMbgj333+/UlNTlZqaqujoaJd5kZGR8vHx0bJly5xpaWlp+vnnn50MsXSuc9+hQwd9+umnGjlypMaOHSvp3A8O0rn7yGZX1apVlZaWpoMHDzonKumv9KtyypUr59zfNt2/38P9+vXrp2HDhmn//v36+eefdfr0aQ0fPlx33323SpUqddlXsQQHBys8PNzluzx9+rRWr17tvM9qrOLmt3jxYm3cuFGxsbFq1KiRQkNDnXu+/ttff/11jVuH61m5cuVcRujFxcUpISFBX331lRISEpx7o6d77LHHtHDhQq1duzZDXadPn3apCzemcuXKKSkpSXv37nWmbd68WUeOHHGOLaVLl3aegZfu559/vmTdr776qqZOnao1a9ZIkqpUqaIzZ87owIEDF+znlClT5orWdSNL/0GySJEiLj+olCtXTsuXL3f5wWT58uXKkyePChUqJOncjyu1a9fWgAEDtHbtWvn4+Dj3qPfx8clS/zQyMlKxsbHq3bv3VdsmT09PtW7dWlOmTMm0T/T333/r9OnTzvuOHTvqt99+08yZMzVz5swM+6IrFRQUpIIFC7r0naRzn2N6fJcpU0YbNmxweRZBVmKuXr16Kl++vMtor6pVq2rLli0Z4jsyMlKenp4qU6aMkpKSXK6WTX+OxbVCvF39eEtPJp1/TKxfv76KFy+uCRMmaNy4cWrVqpXy5MnjzG/RooV8fHzov12B4OBgPfLII/r444/12Wefafr06Tp69KjzDLLM4rBUqVK65557NH78eI0bN04NGzZ0GUFQrlw57dixQykpKc60NWvW6OTJk86+Iqsxfim34nHuSqT3WatWraqUlBR5e3tn2K+m3+GkYsWKWrRo0QXrOX36tFauXOlMO3TokLZu3Zrlc+isnKuna9Wqlby8vPTZZ59p4sSJ6tixo0sipFy5ckpISMiwr82bN6+TkL0asRYaGqqQkBCXWDt9+rTWrVuXrXpvFenH8/Dw8Axxd/4Fa9WqVXMuSChevLiTEM7ud7hhwwYtXrxYsbGxkqRffvlFf/75p4YOHap77rlHpUuXzjDyJrPfJvfv36+dO3eqX79+ql+/vsqUKZPhecK4cZCEZtNpTAAADMJJREFUwQ3By8tLiYmJSkxMzHDlZUBAgDp37qyXXnpJCxYs0ObNm/XUU0/pxIkTTof8tdde0+zZs7V9+3Zt2rRJX331lXPAvv322+Xv768FCxbo999/15EjR664nWXLllXr1q3Vpk0bzZo1S7t27dJPP/2kwYMHa8GCBZKk559/Xl9//bWGDx+urVu3atSoUVkaho2r695779V//vMfDRo0SCVKlNDp06c1evRo7dy5U5MnT9YHH3xw2XV269ZNb731lmbNmqVff/1VXbp0cTkBy0qs4uZz6tQppaSkaN++fVqzZo0GDRqkmJgYPfjgg2rXrp0CAgL08ccf6+uvv9bDDz+shQsXavfu3fr555/Vs2dPderUKac3ATng0KFDuu+++/Tpp59qw4YN2rVrl7744gsNHTpUMTExTrl69eopMjJS7dq1U2RkpOrWretST/fu3VW7dm01aNBA7733ntavX6+dO3fq888/V40aNZwHW+PGcOTIEZdbwKxbt06lSpVSxYoV1aZNG61Zs0Y//fST2rVrp3r16jm32ejatas++eQTTZw4Udu2bdMbb7yhDRs2XPKKzeLFiysmJkavvfaapHM/grVp00bt2rXTzJkztWvXLq1atUpDhgzRvHnznHXNmzdPI0aM0LZt2/Thhx9q/vz5OT56ICd06dJFe/fuVdeuXfXrr79q9uzZ6tevn3r06CFPT0+tXLlSgwYN0s8//6ykpCTNnDlTf/zxh9NHLVq0qDZs2KAtW7bo4MGDLqNz/+2FF17Q3LlzL/uHwAMHDiglJcXllb6eQYMGKSIiQjVq1NCkSZO0efNmbdu2TePGjVPlypVdHlperFgx3XfffXr66aeVK1cutWjR4rI/r40bN2aIb0l66aWXNGTIEE2fPl1btmzRyy+/rHXr1qlbt26S5Dww++mnn1ZiYqK++eYbZ7T7peLuhRde0Icffqh9+/ZJOnfOMGnSJPXv31+bNm1SYmKipk+frr59+0qSoqKiVKJECbVv314bNmxQQkKC+vTpk6V1uRvxljWdO3fWwIEDlZCQoD179ujHH39Uu3btlD9/fpcRyR4eHurYsaPGjBmjFStWZOirR0RE6O2339Y777yjuLg4LV26VHv27FFCQoKeeeYZDRw48LI+m1vFsGHDnL/lrVu36ssvv3RuB+3h4aHChQtr4cKFSklJyXC7vLi4OH355ZeaM2dOhu+jSZMmioyMVJs2bbRu3TqtWLFCHTt2VHR0tMqXLy/pXIxv27ZNGzdu1MGDB6/4KvKuXbtq1qxZGj16tLZt26Z3331XixYtyvF9QE65VJ+1YcOGqlmzppo2bapvvvlGu3fv1vLly9W3b19nH9KvXz9NnTpV/fr1U2JiojZu3OgkOEuWLKmYmBg99dRTWrZsmdavX6/HH39chQoVcukTX8qlztXTBQYGqnXr1nrllVe0f/9+dejQwWX+c889p507d6p79+769ddfNWvWLA0YMEAvvPCCU6Zo0aL68ccftWfPHh08ePCK72DRtWtXvfnmm5o7d65+/fVXPffcczp69OgtG2uXo3379goICFCzZs2UkJCgXbt26bvvvtNzzz2nAwcOaMuWLerbt69+/PFHJSUlaf78+dq1a5fLMTGr+4u0tDSlpKRo//792rBhg0aOHKn77rtPNWrUUPfu3Z36vL29NWrUKO3atUszZ87UW2+95VJP0aJFJZ277egff/yhv//+W/nz51dQUJA++OAD7dixQ/Hx8erZs6d7PjS4n3seNQNk38UeaG127oF47du3N7NzD9Tr2rWrhYaGmq+vr9WuXdt5GK2Z2cCBA61s2bLm7+9v+fLls5iYGNu5c6cz/6OPPrKIiAjz9PS0evXqmdm5B9T++0Fe52vTpk2mD0Q7deqU9e3b14oWLWq5cuWyggULWvPmze2XX35xyowdO9YKFixo/v7+FhMTY0OGDHF5CDyurgvF0pQpU8zHx8eSkpJsxIgRFh4ebv7+/hYdHW2TJk1yeUhsZg98mzVrlp2/G01LS7Nu3bpZUFCQ5c2b13r06GHt2rVzWfelYjWzh9Nmtu5LxSeuD+3bt3cebu3t7W358+e3hg0b2rhx41weAGtmtmrVKmvevLnlz5/ffH19LTIy0p5++ulMH7hXpEgRl4c04uZz8uRJe/nll61q1aoWHBxsuXPnttKlS1vfvn3txIkTLmUHDRpkkjI8TPr8ugYPHmwVKlQwPz8/y5cvn9WuXdsmTJhgaWlp12JzcBWcvz85/9W+fXvbs2ePPfzwwxYQEGB58uSxli1bWkpKisvyr7/+uoWGhlpgYKA98cQT9vzzz9vdd9/tzL/QcSUhIcHlwaWpqan22muvOf2csLAwa9asmfPgY7Nz/ZxChQqZv7+/NW3a1N544w0LCwtz0yeTsy7VX12yZIlVr17dfHx8LCwszHr16uX83W3evNmio6Od/X6pUqVs9OjRzrIHDhywqKgoCwwMNEn23XffmZld8CHwUVFR1rhxYzO79MPu0+dn9lqxYoVT7q+//rKXX37ZSpYsaT4+PlagQAFr2LChzZo1K8ODtT/77DOTZE8//XTWPrwstMXM7MyZMzZgwAArVKiQ5cqVyypVquQ8RDtdQkKCVaxY0Xx8fKxatWpOW3799VczM9u1a5dJsrVr17osd/bsWStdurR17tzZmbZgwQKrVauW+fv7W1BQkN111102duxYZ35iYqLVrl3bfHx8rEyZMjZ37lyTZAsWLLis7b4SxNv/XGm8ffnll9akSRMLDw83Hx8fK1iwoMXGxrrsw9Lt3bvXPD09rXTp0hesLz4+3qKjo52HkpcpU8ZefPFF279//2W160ZxsRj898PICxUq5BJjZmZjxoyxihUrWkBAgAUFBVnDhg1t3bp1zvxZs2ZZZGSkeXt7W4kSJVyWPX78uOXJk8fy5cuX4SHvZmY7duywJk2aWO7cuS0oKMgeffRR++OPP1yWj4mJseDgYJNkU6dOtX/++cckOfuU9AezJyYmOsslJydniNV3333XwsPDLXfu3NaiRQvr16+fFS1aNCsf4U0nK33Wo0ePWteuXa1gwYKWK1cui4iIsDZt2lhSUpJTz4wZM6xy5crm4+NjoaGh1rx5c2fe4cOHrW3bthYcHOycr2/dutWZf7XO1dMtX77cJFmjRo0y3ebFixdbtWrVnH1t79697fTp0878xMREq1Gjhvn7+5sk27t3r8XHx5skO3bsmJmd+w3q378BffHFF+bl5eW8T01NtS5dujhx37t3b2vWrJk9/vjjF/5CbjGZfffpfvvtN2vTpo2FhISYr6+vlShRwjp16mTHjx+33377zR566CELCwszHx8fK1asmA0cONA51mS2v8hMr169nOOZl5eXhYSEWN26dW306NGWmprqUnbChAlWuHBh8/X1tTp16jgxev7+pk+fPnb77bebh4eHPfPMM2ZmNm/ePCtdurT5+vpalSpVbNGiRS77Ldw4PMy4oSCQ0z7++GO9/PLLOnjwYE43BQAA3AKioqIUFhbmPO/FnZ566in9+uuv+uGHH9y+LkCSpkyZoo4dO+rIkSMXfdbA1ZCQkKB77rlH27dvd3koNIBbR9u2bZWSkqL4+PicbgpuYmfPnlWpUqXUtm1b9evXL6ebA+Ayeed0AwAAAAC4z4kTJ/TBBx8oOjpaXl5emjp1qhYuXOi2H4uGDRumqKgoBQQEaP78+Zo4caLef/99t6wLkKRJkyapePHiKlSokNavX69evXqpVatWbknAzJo1S4GBgSpZsqS2b9+ubt26qXbt2iRggFvIkCFD1LhxY/n7+2vu3LmaOnWqJkyYkNPNwk1m165dWrx4serUqaNTp07pnXfe0d69e/Xoo4/mdNMAXAGeCQMAAADcxDw8PDRv3jzVqVNH1apV09y5czVjxgw1bNjQLev76aefFBUVpQoVKuiDDz7QqFGj9OSTT7plXbj+NW7cWIGBgZm+Bg0adFXWkZKSoscff1xly5bVf//7X7Vs2VJjx469KnX/27Fjx9SlSxeVKVNGHTp0UPXq1TV79my3rAuX71rEG7BixQo1aNBAFStW1Pjx4/Xhhx/q8ccfz+lm4Sbj6empTz75RNWrV1ft2rWVmJioRYsWqVSpUjndNABXgNuRAQAAAADcYt++ffrnn38ynZcvXz7ly5fvGrcINzPiDQAAXI9IwgAAAAAAAAAAALgBtyMDAAAAAAAAAABwA5IwAAAAAAAAAAAAbkASBgAAAAAAAAAAwA1IwgAAAAAAAAAAALgBSRgAAAAAAAAAAAA3IAkDAAAAAAAAAADgBiRhAAAAAAAAAAAA3IAkDAAAAAAAAAAAgBv8f2GoSNhLTFHJAAAAAElFTkSuQmCC\n",
      "text/plain": [
       "<matplotlib.figure.Figure at 0x232c75620b8>"
      ]
     },
     "metadata": {},
     "output_type": "display_data"
    }
   ],
   "source": [
    "import matplotlib.pyplot as plt; plt.rcdefaults()\n",
    "import numpy as np\n",
    "import matplotlib.pyplot as plt\n",
    "\n",
    "objects = ('MostFreq', 'Random', 'DCT', 'SVC', 'LogReg', 'PostRFECV_LogReg', 'PostRFECV_SVC','FirstVoting', 'SecondVoting', 'Test Data')\n",
    "y_pos = np.arange(len(objects))\n",
    "performance = accuracies\n",
    "plt.figure(figsize=(20, 5))  \n",
    "plt.bar(y_pos, performance, align='center', alpha=0.5)\n",
    "plt.xticks(y_pos, objects)\n",
    "plt.ylabel('Accuracy')\n",
    "plt.title('Progress on Different Models')\n",
    " \n",
    "plt.show()"
   ]
  },
  {
   "cell_type": "markdown",
   "metadata": {},
   "source": [
    "## References:\n",
    "[1] http://orange3.readthedocs.io/projects/orange-visual-programming/widgets/visualize/freeviz.html<br>\n",
    "[2] http://scikit-learn.org/stable/modules/generated/sklearn.feature_selection.RFECV.html#sklearn.feature_selection.RFECV<br>\n",
    "[3] http://scikit-learn.org/stable/modules/generated/sklearn.model_selection.GridSearchCV.html<br>\n",
    "[4] http://scikit-learn.org/stable/modules/generated/sklearn.ensemble.BaggingClassifier.html<br>\n",
    "[5] http://scikit-learn.org/stable/modules/generated/sklearn.ensemble.VotingClassifier.html<br>\n",
    "[6] http://scikit-learn.org/stable/modules/generated/sklearn.neighbors.KNeighborsClassifier.html<br>\n",
    "[7] http://scikit-learn.org/stable/modules/neural_networks_supervised.html#multi-layer-perceptron<br>\n",
    "[8] http://scikit-learn.org/stable/modules/lda_qda.html<br>"
   ]
  }
 ],
 "metadata": {
  "kernelspec": {
   "display_name": "Python 3",
   "language": "python",
   "name": "python3"
  },
  "language_info": {
   "codemirror_mode": {
    "name": "ipython",
    "version": 3
   },
   "file_extension": ".py",
   "mimetype": "text/x-python",
   "name": "python",
   "nbconvert_exporter": "python",
   "pygments_lexer": "ipython3",
   "version": "3.6.4"
  }
 },
 "nbformat": 4,
 "nbformat_minor": 2
}
