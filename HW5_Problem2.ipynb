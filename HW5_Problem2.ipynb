{
 "cells": [
  {
   "cell_type": "markdown",
   "metadata": {},
   "source": [
    "# Empathy Analysis"
   ]
  },
  {
   "cell_type": "markdown",
   "metadata": {},
   "source": [
    "### Problem Statement:\n",
    "#### You are working for a non-profit that is recruiting student volunteers to help with Alzheimer’s patients. You have been tasked with predicting how suitable a person is for this task by predicting how empathetic he or she is. Using the Young People Survey dataset(https://www.kaggle.com/miroslavsabo/young-people-survey/), predict a person’s “empathy” on a scale from 1 to 5. \n"
   ]
  },
  {
   "cell_type": "markdown",
   "metadata": {},
   "source": [
    "First of all, let us visualize the data to get an idea of what we are dealing with. For that I used the tool Orange3 based on Python and C++ offered by Anaconda environment.\n",
    "Here, we have used visual representation called circular FreeViz[1] where yellow points represent most likely to pay more for healthy food while blue represent least likely. The radial setting (the circle under the data) has been set so that we can view those attributes(arrows called anchors) that are comparitively larger than other unit vectors which implies that they are more informative perhaps than the others.\n",
    "<img src = \"files/images/OptimizedFreeviz.png\"></img>\n",
    "As we can see, the data is not easily separable. Few of the reasons could be that it is using all features including those which are not good at indicating chances for our target feature i.e. Empathy.\n",
    "Also, according to the anchors, we might say that the attributes like gender and life struggles are useful in telling more information.<br>\n",
    "We can now start working with the dataset for prediction."
   ]
  },
  {
   "cell_type": "markdown",
   "metadata": {},
   "source": [
    "First let us import all the essential packages and functions that have been consolidated in the file called 'BasicTries.py'\n",
    "\n",
    "Return object with labels on given axis omitted where alternately any or all of the data are missing"
   ]
  },
  {
   "cell_type": "code",
   "execution_count": 26,
   "metadata": {},
   "outputs": [
    {
     "name": "stdout",
     "output_type": "stream",
     "text": [
      "...done importing!\n"
     ]
    }
   ],
   "source": [
    "from BasicTries import getCleanedData, train_validate_test_split, getXY, saveFile, loadFile, assignRadnomValue\n",
    "from ParameterTuning import tuneSVC, tuneDCT, tuneRFC\n",
    "\n",
    "import pandas as pd\n",
    "import numpy as np\n",
    "from sklearn import tree\n",
    "from sklearn.svm import SVC\n",
    "from sklearn.linear_model import LogisticRegression, Lasso\n",
    "from scipy import stats\n",
    "import warnings\n",
    "from sklearn.feature_selection import RFECV\n",
    "from sklearn.naive_bayes import GaussianNB\n",
    "from sklearn import model_selection\n",
    "from sklearn.ensemble import BaggingClassifier, AdaBoostClassifier\n",
    "from sklearn.ensemble import GradientBoostingClassifier\n",
    "from sklearn.ensemble import RandomForestClassifier\n",
    "from sklearn.ensemble import VotingClassifier\n",
    "from sklearn.neural_network import MLPClassifier\n",
    "from sklearn.neighbors import KNeighborsClassifier\n",
    "from sklearn.discriminant_analysis import QuadraticDiscriminantAnalysis\n",
    "import pickle\n",
    "\n",
    "print('...done importing!')"
   ]
  },
  {
   "cell_type": "markdown",
   "metadata": {},
   "source": [
    "Now, we need to begin with cleaning and preprocessing the data to make it ready for training.<br>\n",
    "The two things that need handling are:\n",
    "1. <b>Missing Data</b> : We are replacing any or all of the data that's missing by the mode i.e. most frequent value of that column.\n",
    "2. <b>Categorical Data</b>: most of the classifiers need numerical data to train on. Hence, we create <i>dummy</i> features for all the categorical attributes such as <i>Gender, Punctuality, Internet Usage</i> etc. These dummy features are based on each category and whether a particular person belongs to that category or not is marked by <b>1 or 0</b>, respectively.\n",
    "\n",
    "After cleaning, we divide our dataset into three parts where <b>60% of data is training set, 20% is validation set and rest is testing set</b>."
   ]
  },
  {
   "cell_type": "code",
   "execution_count": 12,
   "metadata": {},
   "outputs": [
    {
     "name": "stdout",
     "output_type": "stream",
     "text": [
      "  converting categorical features to indicator features...\n",
      "\n",
      "Few dummy variables created: ['Education_doctorate degree', 'Education_masters degree', 'Education_primary school', 'Education_secondary school', 'Only child_no', 'Only child_yes', 'Village - town_city', 'Village - town_village'] \n",
      "\n"
     ]
    }
   ],
   "source": [
    "cleanedData, finalAttr = getCleanedData()\n",
    "print('\\nFew dummy variables created:',finalAttr[-10:-2],'\\n')\n",
    "train, validate, test = train_validate_test_split(cleanedData)\n",
    "X_train, y_train = getXY(train, finalAttr)\n",
    "X_val, y_val = getXY(validate, finalAttr)\n",
    "X_test, y_test = getXY(test, finalAttr)"
   ]
  },
  {
   "cell_type": "markdown",
   "metadata": {},
   "source": [
    "Our data is ready for learning experiments; We try some <b>baseline and simple default classifiers</b> to see how they perform. We'll be testing out everything on validation set to improve our model for unseen test data.\n",
    "\n",
    "First, let us see that how accurate it would be if we just assign the <b>most frequent class</b> in the training data.\n",
    "As we see below, it performs pretty terribly with an <b>accuracy of 15 - 20%</b> approximately on validation data."
   ]
  },
  {
   "cell_type": "code",
   "execution_count": 14,
   "metadata": {},
   "outputs": [
    {
     "name": "stdout",
     "output_type": "stream",
     "text": [
      "\n",
      "  assigning *Most frequent value* of the training data...\n",
      "     testing on validation set...\n",
      "       accuracy on validation set: 0.15841584158415842\n"
     ]
    }
   ],
   "source": [
    "print('\\n  assigning *Most frequent value* of the training data...')\n",
    "print('     testing on validation set...') \n",
    "print('       accuracy on validation set:',np.mean(stats.mode(y_train) == y_val))"
   ]
  },
  {
   "cell_type": "markdown",
   "metadata": {},
   "source": [
    "Next, let us see how accurate it would be if we assign a <b>random class</b> as prediction.\n",
    "As we see below, it performs almost equally bad with an <b>accuracy of 15% to 17%</b> approximately on validation data."
   ]
  },
  {
   "cell_type": "code",
   "execution_count": 15,
   "metadata": {},
   "outputs": [
    {
     "name": "stdout",
     "output_type": "stream",
     "text": [
      "\n",
      "  assigning *Random value*...\n",
      "     testing on validation set...\n",
      "       accuracy on validation set: 0.16174884815214194\n"
     ]
    }
   ],
   "source": [
    "print('\\n  assigning *Random value*...')\n",
    "print('     testing on validation set...') \n",
    "print('       accuracy on validation set:',np.mean(y_val == assignRadnomValue(len(y_val))))"
   ]
  },
  {
   "cell_type": "markdown",
   "metadata": {},
   "source": [
    "Now, let us train a <b>default Decision Tree Classifier</b> on the training data and see how well it performs.\n",
    "As we see below, it performs better than the first two methods with an <b>accuracy of 24%</b> approximately on validation data, but it is still a <i>bad classifier</i>."
   ]
  },
  {
   "cell_type": "code",
   "execution_count": 16,
   "metadata": {},
   "outputs": [
    {
     "name": "stdout",
     "output_type": "stream",
     "text": [
      "\n",
      "  training *Decision Tree* model on train set...\n",
      "     testing on validation set...\n",
      "       accuracy on validation set: 0.24833349671600824\n"
     ]
    }
   ],
   "source": [
    "print('\\n  training *Decision Tree* model on train set...')\n",
    "clf = tree.DecisionTreeClassifier()\n",
    "clf = clf.fit(X_train, y_train)\n",
    "print('     testing on validation set...') \n",
    "predicted = clf.predict(X_val)\n",
    "print('       accuracy on validation set:',np.mean(predicted == y_val))"
   ]
  },
  {
   "cell_type": "markdown",
   "metadata": {},
   "source": [
    "Now, let us train a <b>default Support Vector Machine</b> on the training data.\n",
    "As we see below, it performs better than the default Decision Tree with an <b>accuracy of 25%</b> approximately on validation data, but is still a weaker classifier."
   ]
  },
  {
   "cell_type": "code",
   "execution_count": 18,
   "metadata": {},
   "outputs": [
    {
     "name": "stdout",
     "output_type": "stream",
     "text": [
      "\n",
      "  training *Support Vector Machine* model on train set...\n",
      "     testing on validation set...\n",
      "       accuracy on validation set: 0.25254876972845797\n"
     ]
    }
   ],
   "source": [
    "print('\\n  training *Support Vector Machine* model on train set...')\n",
    "clf = SVC(kernel = 'poly')\n",
    "warnings.filterwarnings(\"ignore\")\n",
    "clf = clf.fit(X_train, y_train)\n",
    "print('     testing on validation set...') \n",
    "predicted = clf.predict(X_val)\n",
    "print('       accuracy on validation set:',np.mean(predicted == y_val))"
   ]
  },
  {
   "cell_type": "markdown",
   "metadata": {},
   "source": [
    "Let us also train a simple linear model, a <b>default Logistic Regression</b> model on the training data and see how well it performs.\n",
    "As we see below, it performs <b>similar to the SVM and Decision Tree models</b> with an <b>accuracy of 25%</b> approximately on validation data, which is better than assigning <i>frequent values or being random</i>."
   ]
  },
  {
   "cell_type": "code",
   "execution_count": 19,
   "metadata": {},
   "outputs": [
    {
     "name": "stdout",
     "output_type": "stream",
     "text": [
      "\n",
      "  training *Logistic Regression* model on train set...\n",
      "     testing on validation set...\n",
      "       accuracy on validation set: 0.2588716792471326\n"
     ]
    }
   ],
   "source": [
    "print('\\n  training *Logistic Regression* model on train set...')\n",
    "clf = LogisticRegression().fit(X_train, y_train)\n",
    "print('     testing on validation set...') \n",
    "predicted = clf.predict(X_val)\n",
    "print('       accuracy on validation set:',np.mean(predicted == y_val))"
   ]
  },
  {
   "cell_type": "markdown",
   "metadata": {},
   "source": [
    "As we had seen during visualiztion and also noticed indirectly due to bad performances by the default models, there are probably a lot of redundant features which are adversely affecting the classification results. Let us try to do some feature selection using a technique called <b>Recursive Feature Elimination with Cross Validation(RFECV)</b>[2]. This technique recursively eliminated a feature and trains on the data till all the features exhaust and gives us rank according to the best performance(1 is the best) measured by cross validation.\n",
    "\n",
    "Here, I have used RFE from sklearn package and chosen all those attributes that <u>fall in rank 1 to 3</u>. After that I rerun the default logistic regression on the new X set to see if it changes anything."
   ]
  },
  {
   "cell_type": "code",
   "execution_count": 22,
   "metadata": {},
   "outputs": [
    {
     "name": "stdout",
     "output_type": "stream",
     "text": [
      "After feature selection: (606, 40)\n",
      "\n",
      "  training *Logistic Regression* model on REFINED training set...\n",
      "     testing on REFINED validation set...\n",
      "       accuracy on validation set: 0.2658317811979218\n",
      "\n",
      "  training *Support Vector Machine* model on REFINED training set...\n",
      "     testing on REFINED validation set...\n",
      "       accuracy on validation set: 0.25051465542593865\n"
     ]
    }
   ],
   "source": [
    "logreg = LogisticRegression()\n",
    "rfe = RFECV(logreg, 10)\n",
    "rfe = rfe.fit(X, y )\n",
    "ranking = rfe.ranking_\n",
    "selectedAttr = []\n",
    "for i, rank in enumerate(ranking):\n",
    "    if rank < 3 or i == 92:\n",
    "        selectedAttr.append(finalAttr[i])\n",
    "\n",
    "print('After feature selection:',X_train.shape)\n",
    "\n",
    "print('\\n  training *Logistic Regression* model on REFINED training set...')\n",
    "clf = LogisticRegression().fit(X_train, y_train)\n",
    "print('     testing on REFINED validation set...') \n",
    "predicted = clf.predict(X_val)\n",
    "print('       accuracy on validation set:',np.mean(predicted == y_val))\n",
    "\n",
    "print('\\n  training *Support Vector Machine* model on REFINED training set...')\n",
    "clf = SVC(kernel = 'poly')\n",
    "warnings.filterwarnings(\"ignore\")\n",
    "clf = clf.fit(X_train, y_train)\n",
    "print('     testing on REFINED validation set...') \n",
    "predicted = clf.predict(X_val)\n",
    "print('       accuracy on validation set:',np.mean(predicted == y_val))"
   ]
  },
  {
   "cell_type": "markdown",
   "metadata": {},
   "source": [
    "As we see in above output, the performance has slightly <b>improved by 1%</b> for Logistic Regression reaching from around <u>25% to 26% accuracy</u> comparable to SVM.\n",
    "Although, when we use the same refined dataset with SVM, it doesn't really improve the performance by much.\n",
    "Hence, it might be possible that both of these classifiers are learning a different story from the data. This suggests that may be we should try to combine results from multiple classifiers instead of just one which gives us a hint for usage of ensemble techniques.\n",
    "\n",
    "But before that, we will try to make the base classifiers work at their optimum for the data by <i>tuning the respective hyperparameters</i>."
   ]
  },
  {
   "cell_type": "markdown",
   "metadata": {},
   "source": [
    "To tune the hyperparameters, we make use of <b>Grid Search with cross validation</b> offered by sklearn as GridSearchCV[3].\n",
    "\n",
    "GridSearchCV takes an estimator i.e. your model whose parameters we need to tune, a parameter grid in which we mention the hyperparameters of the respective model we wish to tune as well as all the possible values we want to test. Let us see an example for the tuning <u>Decision Tree Classifier</u>."
   ]
  },
  {
   "cell_type": "code",
   "execution_count": null,
   "metadata": {},
   "outputs": [],
   "source": [
    "def tuneDCT(X, y):\n",
    "    param_grid = {\n",
    "    'criterion': ['gini', 'entropy'],\n",
    "    'max_features': ['auto', 'sqrt', 'log2'],\n",
    "    'max_depth':list(range(1, 10, 1))\n",
    "    }"
   ]
  },
  {
   "cell_type": "markdown",
   "metadata": {},
   "source": [
    "Here, we see the parameter grid we need to tune for our estimator Decision Tree Classifier. We have taken three hyperparameters that we wish to tune:\n",
    "1. <b>criterion</b> which decides the split. It can have either gini or entropy as its possible values so, we put both of them in a list to try.<br>\n",
    "2. <b>max_features</b> which gives the number of features to consider for best split. The already offered methods are auto, square root or natural log of the number of features that needs to be considered. So, we include all of them in the list to test out.<br>\n",
    "3. <b>max_depth</b> which is the depth of the generated decision tree. We try all the values in range 1 to 10 for it.<br><br>\n",
    "Similarly, a script for ParameterTuning has been created to find the best features for SVM classifier, RandomForest Classifier as well. \n",
    "\n",
    "To figure out the numerical range that will suit the model, we can try big ranges of multiples of 10 and step down to 1 while reducing the range. For example, to figure out the range of RFC's n_estimators, I first tested for a range of 100 to 1000 with a step of 10. The value that I got was 700 and so, I tried again with a range of 500, 900 with a step of 5 for which I got a value of 650. This lead to the current range I am testing i.e. 648 to 658 with a step of 1.\n",
    "\n",
    "We'll see the selected parameters for their respective models below."
   ]
  },
  {
   "cell_type": "code",
   "execution_count": 24,
   "metadata": {},
   "outputs": [
    {
     "name": "stdout",
     "output_type": "stream",
     "text": [
      "Best parameter settings for:\n",
      "SVC: {'C': 1, 'kernel': 'poly'}\n",
      "RFC: {'max_features': 'log2', 'n_estimators': 663}\n",
      "DCT: {'criterion': 'gini', 'max_depth': 2, 'max_features': 'log2'}\n"
     ]
    }
   ],
   "source": [
    "bestSVC = tuneSVC(X_train,y_train)\n",
    "print('Best parameter settings for:\\nSVC:',bestSVC)\n",
    "bestRFC = tuneRFC(X_train,y_train)\n",
    "print('RFC:',bestRFC)\n",
    "bestDCT = tuneDCT(X_train,y_train)\n",
    "print('DCT:',bestDCT)"
   ]
  },
  {
   "cell_type": "markdown",
   "metadata": {},
   "source": [
    "Now that we have best parameter settings for each classifier, we can consider ensemble techniques on them.\n",
    "\n",
    "The first thing that we would want is that the model we use are stable in nature which can be done by Bootstrap aggregating aka bagging that improves the stability and accuracy of base classifier by model averaging. We can apply that to each of the classifiers to make them stable. sklearn library offers BaggingClassifier[4] that can be used by us.\n",
    "\n",
    "To predict based on all the models combined, we can have a voting model which takes in vote from every model and gives us a unanimous prediction. This can help us in getting the best of all and also the prediction will be more certain.\n",
    "\n",
    "This can be achieved by sklearn's Voting Classifier[5]. We'll be doing hard voting which gives us the voted prediciton classes whereas soft voting gives voted probabilities.\n",
    "\n",
    "Now, let us see how bagging and voting our classifiers work on our validation data."
   ]
  },
  {
   "cell_type": "code",
   "execution_count": 35,
   "metadata": {},
   "outputs": [
    {
     "name": "stdout",
     "output_type": "stream",
     "text": [
      "accuracy on validation set: 0.2986226840505833\n"
     ]
    }
   ],
   "source": [
    "bestSVC = loadFile('bestSVC' )\n",
    "bestRFC = loadFile('bestRFC' )\n",
    "bestDCT = loadFile('bestDCT' )\n",
    "\n",
    "clf1 = LogisticRegression(random_state=1)\n",
    "\n",
    "rfc = RandomForestClassifier(n_jobs=-1, max_features= bestRFC['max_features'], n_estimators= bestRFC['n_estimators'], oob_score = True) #\n",
    "clf2 = BaggingClassifier(base_estimator=rfc)\n",
    "\n",
    "cart = tree.DecisionTreeClassifier(criterion = bestDCT['criterion'], max_depth=bestDCT['max_depth'], max_features=bestDCT['max_features'])\n",
    "clf3 = BaggingClassifier(base_estimator=cart)\n",
    "\n",
    "svc = SVC(kernel = bestSVC['kernel'], C = bestSVC['C'])\n",
    "clf4 = BaggingClassifier(base_estimator=svc)\n",
    "\n",
    "\n",
    "eclf = VotingClassifier(estimators=[\n",
    "        ('lr', clf1), ('rf', clf2), ('cart',clf3),('svm',clf4)], voting='hard')\n",
    "\n",
    "eclf = eclf.fit(X_train, y_train)\n",
    "print('accuracy on validation set:',np.mean(y_val == eclf.predict(X_val)))\n"
   ]
  },
  {
   "cell_type": "markdown",
   "metadata": {},
   "source": [
    "As you can see bagging and voting has increased the accuracy from around <b>25% for each base classifier to 29%</b>.\n",
    "\n",
    "Now, there are other models that we'll try to see if they improve the performance:\n",
    "1. <b>K Nearest Neighbors Classifier</b>[6] (a clustering algorithm)\n",
    "2. <b>Multi-layer Perceptron Classifier</b>[7] (a neural network)\n",
    "3. <b>Quadratic Discriminant Analysis</b>[8] (Bayes' Rule based decsion boundary)\n",
    "\n",
    "Let us see, how they all perform on the validation set."
   ]
  },
  {
   "cell_type": "code",
   "execution_count": 45,
   "metadata": {},
   "outputs": [
    {
     "name": "stdout",
     "output_type": "stream",
     "text": [
      "accuracy on validation set: 0.30462699735320065\n"
     ]
    }
   ],
   "source": [
    "clf1 = LogisticRegression(random_state=1)\n",
    "\n",
    "rfc = RandomForestClassifier(n_jobs=-1, max_features= bestRFC['max_features'], n_estimators= bestRFC['n_estimators'], oob_score = True) #\n",
    "clf2 = BaggingClassifier(base_estimator=rfc)\n",
    "\n",
    "cart = tree.DecisionTreeClassifier(criterion = bestDCT['criterion'], max_depth=bestDCT['max_depth'], max_features=bestDCT['max_features'])\n",
    "clf3 = BaggingClassifier(base_estimator=cart)\n",
    "\n",
    "rfc = SVC(kernel = bestSVC['kernel'], C = bestSVC['C'])\n",
    "clf4 = BaggingClassifier(base_estimator=rfc)\n",
    "\n",
    "kmeans = KNeighborsClassifier(3)\n",
    "\n",
    "nn = MLPClassifier(alpha=1)\n",
    "\n",
    "qda = QuadraticDiscriminantAnalysis()\n",
    "\n",
    "\n",
    "eclf1 = VotingClassifier(estimators=[\n",
    "        ('lr', clf1), ('rf', clf2), ('cart',clf3),('svm',clf4), ('nn', nn)], voting='hard')\n",
    "\n",
    "eclf1 = eclf1.fit(X_train, y_train)\n",
    "print('accuracy on validation set:',np.mean(y_val == eclf1.predict(X_val)))"
   ]
  },
  {
   "cell_type": "markdown",
   "metadata": {},
   "source": [
    "We can see that after adding all the new classifiers, our model <u>increased the accuracy by 1%</u>.\n",
    "\n",
    "Now, we can test our model (saved as pickle file for saving time) on the test data. We'll use both training and validation data to train the model for testing data."
   ]
  },
  {
   "cell_type": "code",
   "execution_count": 44,
   "metadata": {},
   "outputs": [
    {
     "name": "stdout",
     "output_type": "stream",
     "text": [
      "accuracy on testing set: 0.3026173904519165\n"
     ]
    }
   ],
   "source": [
    "eclf1 = pickle.load(open('ensemble.sav', 'rb'))\n",
    "\n",
    "eclf1 = eclf1.fit(np.concatenate((X_train,X_val)),np.concatenate((y_train,y_val)))\n",
    "print('accuracy on testing set:',np.mean(y_test == eclf1.predict(X_test)))"
   ]
  },
  {
   "cell_type": "markdown",
   "metadata": {},
   "source": [
    "As we see,<b> accuracy for testing data</b> is almost <u>similar to the validation</u> data i.e. <b>30%</b>.\n",
    "\n",
    "So, to recapitulate the entire process, we first preprocessed the data by handling missing values and converting categorical features to numerical features. Then we divided our data to training, validation and testing data in ratio 60:20:20. Then we try multiple base classifiers on our training data and test and tune them on validation set. Then, we try ensemble techniques to improve the performace of our model and then finally, tested it on our test data.\n",
    "\n",
    "Below is a bar graph for our progress based on accuracy."
   ]
  },
  {
   "cell_type": "code",
   "execution_count": 58,
   "metadata": {},
   "outputs": [
    {
     "data": {
      "image/png": "[encoded data removed]",
      "text/plain": [
       "<matplotlib.figure.Figure at 0x21afc314978>"
      ]
     },
     "metadata": {},
     "output_type": "display_data"
    }
   ],
   "source": [
    "import matplotlib.pyplot as plt; plt.rcdefaults()\n",
    "import numpy as np\n",
    "import matplotlib.pyplot as plt\n",
    " \n",
    "objects = ('MostFreq', 'Random', 'DCT', 'SVC', 'LogReg', 'PostRFECV','FirstVoting', 'SecondVoting')\n",
    "y_pos = np.arange(len(objects))\n",
    "performance = [0.15841584158415842,0.16174884815214194,0.24833349671600824,0.25254876972845797,\n",
    "               0.2588716792471326,0.2658317811979218, 0.2986226840505833,0.30462699735320065 ]\n",
    "plt.figure(figsize=(20, 5))  \n",
    "plt.bar(y_pos, performance, align='center', alpha=0.5)\n",
    "plt.xticks(y_pos, objects)\n",
    "plt.ylabel('Accuracy')\n",
    "plt.title('Progress on Different Models')\n",
    " \n",
    "plt.show()"
   ]
  },
  {
   "cell_type": "markdown",
   "metadata": {},
   "source": [
    "## References:\n",
    "[1] http://orange3.readthedocs.io/projects/orange-visual-programming/widgets/visualize/freeviz.html<br>\n",
    "[2] http://scikit-learn.org/stable/modules/generated/sklearn.feature_selection.RFECV.html#sklearn.feature_selection.RFECV<br>\n",
    "[3] http://scikit-learn.org/stable/modules/generated/sklearn.model_selection.GridSearchCV.html<br>\n",
    "[4] http://scikit-learn.org/stable/modules/generated/sklearn.ensemble.BaggingClassifier.html<br>\n",
    "[5] http://scikit-learn.org/stable/modules/generated/sklearn.ensemble.VotingClassifier.html<br>\n",
    "[6] http://scikit-learn.org/stable/modules/generated/sklearn.neighbors.KNeighborsClassifier.html<br>\n",
    "[7] http://scikit-learn.org/stable/modules/neural_networks_supervised.html#multi-layer-perceptron<br>\n",
    "[8] http://scikit-learn.org/stable/modules/lda_qda.html<br>"
   ]
  }
 ],
 "metadata": {
  "kernelspec": {
   "display_name": "Python 3",
   "language": "python",
   "name": "python3"
  },
  "language_info": {
   "codemirror_mode": {
    "name": "ipython",
    "version": 3
   },
   "file_extension": ".py",
   "mimetype": "text/x-python",
   "name": "python",
   "nbconvert_exporter": "python",
   "pygments_lexer": "ipython3",
   "version": "3.6.4"
  }
 },
 "nbformat": 4,
 "nbformat_minor": 2
}
